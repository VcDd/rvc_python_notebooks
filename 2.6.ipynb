{
 "cells": [
  {
   "cell_type": "markdown",
   "metadata": {},
   "source": [
    "# RVC 1, Ch2.1"
   ]
  },
  {
   "cell_type": "code",
   "execution_count": 2,
   "metadata": {},
   "outputs": [],
   "source": [
    "# Works best with jupyter-notebook"
   ]
  },
  {
   "cell_type": "code",
   "execution_count": 3,
   "metadata": {},
   "outputs": [],
   "source": [
    "%matplotlib notebook \n",
    "# https://ipython.readthedocs.io/en/stable/interactive/magics.html\n",
    "import numpy as np\n",
    "\n",
    "from spatialmath import *\n",
    "from spatialmath.base import *\n",
    "from roboticstoolbox import *\n",
    "import matplotlib.pyplot as plt\n",
    "\n",
    "#!pip3 install sympy testresources pgraph\n",
    "\n",
    "np.set_printoptions(linewidth=100, formatter={'float': lambda x: f\"{x:8.4g}\" if abs(x) > 1e-10 else f\"{0:8.4g}\"})"
   ]
  },
  {
   "cell_type": "markdown",
   "metadata": {},
   "source": [
    "## Lec 01.6 (Ch 2.1) 2D rotations\n",
    "*For more help with 2D commands see:*\n",
    "https://petercorke.github.io/spatialmath-python/func_2d.html"
   ]
  },
  {
   "cell_type": "code",
   "execution_count": 4,
   "metadata": {},
   "outputs": [
    {
     "name": "stdout",
     "output_type": "stream",
     "text": [
      "[[       1        0]\n",
      " [       0        1]]\n"
     ]
    }
   ],
   "source": [
    "# Rotations about a given axis can be achieved with:\n",
    "# SO(2) rot2 (ndarray (2,2)) rotation matrices\n",
    "# SE(2) SE2 creates (ndarray (3,3)) rotation matrices\n",
    "\n",
    "\n",
    "# Create a rotation matrix\n",
    "R = rot2(0)\n",
    "print(R)"
   ]
  },
  {
   "cell_type": "code",
   "execution_count": 5,
   "metadata": {},
   "outputs": [
    {
     "name": "stdout",
     "output_type": "stream",
     "text": [
      "[[  0.9801  -0.1987]\n",
      " [  0.1987   0.9801]]\n"
     ]
    }
   ],
   "source": [
    "# Rotate by 0.2 radians\n",
    "R=rot2(0.2)\n",
    "print(R)"
   ]
  },
  {
   "cell_type": "code",
   "execution_count": 6,
   "metadata": {},
   "outputs": [
    {
     "name": "stdout",
     "output_type": "stream",
     "text": [
      "[[   0.866     -0.5]\n",
      " [     0.5    0.866]]\n"
     ]
    }
   ],
   "source": [
    "# Rotate by 30 degrees\n",
    "R=rot2(30,'deg')\n",
    "print(R)"
   ]
  },
  {
   "cell_type": "code",
   "execution_count": 7,
   "metadata": {},
   "outputs": [
    {
     "name": "stdout",
     "output_type": "stream",
     "text": [
      "Norm c1:  1.0\n",
      "Norm c2:  1.0\n"
     ]
    }
   ],
   "source": [
    "# Rotation matrices are \n",
    "# 1) orthnormal: columns are orthogonal to each other and unit length\n",
    "# 2) full rank: independent/invertible\n",
    "# 3) symmetrical: the inverse is equal to the transpose\n",
    "c1=R[:,0]\n",
    "c2=R[:,1]\n",
    "\n",
    "print('Norm c1: ', norm(c1))\n",
    "print('Norm c2: ', np.linalg.norm(c2))"
   ]
  },
  {
   "cell_type": "code",
   "execution_count": 8,
   "metadata": {},
   "outputs": [
    {
     "data": {
      "text/plain": [
       "0.0"
      ]
     },
     "execution_count": 8,
     "metadata": {},
     "output_type": "execute_result"
    }
   ],
   "source": [
    "# Compute the dot product\n",
    "np.dot(c1,c2) # np.dot() works with vectors, dot() works with Quaternions\n",
    "c1.dot(c2)"
   ]
  },
  {
   "cell_type": "code",
   "execution_count": 9,
   "metadata": {},
   "outputs": [
    {
     "data": {
      "text/plain": [
       "1.0"
      ]
     },
     "execution_count": 9,
     "metadata": {},
     "output_type": "execute_result"
    }
   ],
   "source": [
    "# Full rank\n",
    "np.linalg.det(R) # lnp.lingalg builds on blas/lapack libs. See https://numpy.org/doc/stable/reference/routines.linalg.html"
   ]
  },
  {
   "cell_type": "code",
   "execution_count": 10,
   "metadata": {},
   "outputs": [
    {
     "data": {
      "text/plain": [
       "array([[   0.866,      0.5],\n",
       "       [    -0.5,    0.866]])"
      ]
     },
     "execution_count": 10,
     "metadata": {},
     "output_type": "execute_result"
    }
   ],
   "source": [
    "# Invertible\n",
    "np.linalg.inv(R)"
   ]
  },
  {
   "cell_type": "code",
   "execution_count": 11,
   "metadata": {},
   "outputs": [
    {
     "name": "stdout",
     "output_type": "stream",
     "text": [
      "[[   0.866      0.5]\n",
      " [    -0.5    0.866]]\n"
     ]
    }
   ],
   "source": [
    "# Symmetrical\n",
    "R=np.transpose(R)\n",
    "print(R)"
   ]
  },
  {
   "cell_type": "code",
   "execution_count": 12,
   "metadata": {},
   "outputs": [
    {
     "data": {
      "text/plain": [
       "1.0"
      ]
     },
     "execution_count": 12,
     "metadata": {},
     "output_type": "execute_result"
    }
   ],
   "source": [
    "# Chains of rotation matrices keep the same properties\n",
    "np.linalg.det(np.matmul(R,R))"
   ]
  },
  {
   "cell_type": "markdown",
   "metadata": {},
   "source": [
    "## Plotting"
   ]
  },
  {
   "cell_type": "markdown",
   "metadata": {},
   "source": [
    "## Symbolic"
   ]
  },
  {
   "cell_type": "code",
   "execution_count": 13,
   "metadata": {},
   "outputs": [
    {
     "name": "stdout",
     "output_type": "stream",
     "text": [
      "Requirement already satisfied: sympy in /home/juan/.local/lib/python3.8/site-packages (1.7.1)\r\n",
      "Requirement already satisfied: mpmath>=0.19 in /home/juan/.local/lib/python3.8/site-packages (from sympy) (1.1.0)\r\n"
     ]
    }
   ],
   "source": [
    "# Run as shell command with !\n",
    "!pip3 install sympy"
   ]
  },
  {
   "cell_type": "code",
   "execution_count": 14,
   "metadata": {},
   "outputs": [],
   "source": [
    "from spatialmath.base.symbolic import *"
   ]
  },
  {
   "cell_type": "code",
   "execution_count": 15,
   "metadata": {},
   "outputs": [
    {
     "name": "stdout",
     "output_type": "stream",
     "text": [
      "[[cos(theta) -sin(theta)]\n",
      " [sin(theta) cos(theta)]]\n"
     ]
    }
   ],
   "source": [
    "theta = symbol('theta')\n",
    "R=rot2(theta)\n",
    "print(R)"
   ]
  },
  {
   "cell_type": "code",
   "execution_count": 16,
   "metadata": {},
   "outputs": [
    {
     "name": "stdout",
     "output_type": "stream",
     "text": [
      "[[-sin(theta)**2 + cos(theta)**2 -2*sin(theta)*cos(theta)]\n",
      " [2*sin(theta)*cos(theta) -sin(theta)**2 + cos(theta)**2]]\n"
     ]
    }
   ],
   "source": [
    "R2=np.matmul(R,R)\n",
    "print(R2)"
   ]
  },
  {
   "cell_type": "code",
   "execution_count": 17,
   "metadata": {},
   "outputs": [
    {
     "data": {
      "text/plain": [
       "array([[-sin(theta)**2 + cos(theta)**2, -2*sin(theta)*cos(theta)],\n",
       "       [2*sin(theta)*cos(theta), -sin(theta)**2 + cos(theta)**2]], dtype=object)"
      ]
     },
     "execution_count": 17,
     "metadata": {},
     "output_type": "execute_result"
    }
   ],
   "source": [
    "np.matmul(R,R)"
   ]
  },
  {
   "cell_type": "code",
   "execution_count": 18,
   "metadata": {},
   "outputs": [
    {
     "data": {
      "text/latex": [
       "$\\displaystyle \\left[\\begin{matrix}\\cos{\\left(2 \\theta \\right)} & - \\sin{\\left(2 \\theta \\right)}\\\\\\sin{\\left(2 \\theta \\right)} & \\cos{\\left(2 \\theta \\right)}\\end{matrix}\\right]$"
      ],
      "text/plain": [
       "[[cos(2*theta), -sin(2*theta)], [sin(2*theta), cos(2*theta)]]"
      ]
     },
     "execution_count": 18,
     "metadata": {},
     "output_type": "execute_result"
    }
   ],
   "source": [
    "simplify(np.matmul(R,R))"
   ]
  },
  {
   "cell_type": "markdown",
   "metadata": {},
   "source": [
    "---\n",
    "## Lec 01.7 (Ch 2.1) 2D Rotation and Translation"
   ]
  },
  {
   "cell_type": "markdown",
   "metadata": {},
   "source": [
    "Create a homogenous transformation representation of a pure translation\n"
   ]
  },
  {
   "cell_type": "code",
   "execution_count": 19,
   "metadata": {},
   "outputs": [
    {
     "name": "stdout",
     "output_type": "stream",
     "text": [
      "[[       1        0        1]\n",
      " [       0        1        2]\n",
      " [       0        0        1]]\n"
     ]
    }
   ],
   "source": [
    "# https://petercorke.github.io/spatialmath-python/func_2d.html?highlight=transl2#spatialmath.base.transforms2d.transl2\n",
    "T1 = transl2(1, 2)\n",
    "print(T1)"
   ]
  },
  {
   "cell_type": "markdown",
   "metadata": {},
   "source": [
    "Create a homogenous transformation representation a pure rotation"
   ]
  },
  {
   "cell_type": "code",
   "execution_count": 20,
   "metadata": {},
   "outputs": [
    {
     "name": "stdout",
     "output_type": "stream",
     "text": [
      "[[   0.866     -0.5]\n",
      " [     0.5    0.866]]\n",
      "[[   0.866     -0.5]\n",
      " [     0.5    0.866]]\n"
     ]
    }
   ],
   "source": [
    "R1 = rot2(0.5236)\n",
    "print(R1)\n",
    "R1 = rot2(30,'deg')\n",
    "print(R1)"
   ]
  },
  {
   "cell_type": "markdown",
   "metadata": {},
   "source": [
    "Combine a 2D homogenous tranformation matrix with a rotation and translation"
   ]
  },
  {
   "cell_type": "code",
   "execution_count": 21,
   "metadata": {},
   "outputs": [
    {
     "name": "stdout",
     "output_type": "stream",
     "text": [
      "[[   0.866     -0.5        1]\n",
      " [     0.5    0.866        2]\n",
      " [       0        0        1]]\n"
     ]
    }
   ],
   "source": [
    "T1 = transl2(1, 2)@trot2(30, 'deg')\n",
    "print(T1)"
   ]
  },
  {
   "cell_type": "markdown",
   "metadata": {},
   "source": [
    "Special Eucliden SE(2) command can combine the translation and rotation into a homogeneous matrix directly"
   ]
  },
  {
   "cell_type": "code",
   "execution_count": 23,
   "metadata": {},
   "outputs": [
    {
     "name": "stdout",
     "output_type": "stream",
     "text": [
      "  \u001b[38;5;1m 0.866025   \u001b[0m\u001b[38;5;1m-0.5        \u001b[0m\u001b[38;5;4m 1          \u001b[0m  \u001b[0m\n",
      "  \u001b[38;5;1m 0.5        \u001b[0m\u001b[38;5;1m 0.866025   \u001b[0m\u001b[38;5;4m 2          \u001b[0m  \u001b[0m\n",
      "  \u001b[38;5;244m 0          \u001b[0m\u001b[38;5;244m 0          \u001b[0m\u001b[38;5;244m 1          \u001b[0m  \u001b[0m\n",
      "\n",
      "  \u001b[38;5;1m 0.866025   \u001b[0m\u001b[38;5;1m-0.500001   \u001b[0m\u001b[38;5;4m 1          \u001b[0m  \u001b[0m\n",
      "  \u001b[38;5;1m 0.500001   \u001b[0m\u001b[38;5;1m 0.866025   \u001b[0m\u001b[38;5;4m 2          \u001b[0m  \u001b[0m\n",
      "  \u001b[38;5;244m 0          \u001b[0m\u001b[38;5;244m 0          \u001b[0m\u001b[38;5;244m 1          \u001b[0m  \u001b[0m\n",
      "\n"
     ]
    }
   ],
   "source": [
    "T1 = SE2(1,2,30, unit='deg') # yields an SE object\n",
    "print(T1)\n",
    "\n",
    "T1 = SE2(1,2,0.5236)\n",
    "print(T1)"
   ]
  },
  {
   "cell_type": "code",
   "execution_count": null,
   "metadata": {},
   "outputs": [],
   "source": [
    "# Setup plotting capabilities for Jupyterlab\n",
    "# Run as shell command with !\n",
    "#!pip3 install ipympl"
   ]
  },
  {
   "cell_type": "markdown",
   "metadata": {},
   "source": [
    "Getting ready to plot. Set the axes"
   ]
  },
  {
   "cell_type": "code",
   "execution_count": null,
   "metadata": {},
   "outputs": [],
   "source": [
    "fig = plt.figure()   # Open a new figure\n",
    "plt.axes( xlim=(-1,5), ylim=(-1,5) )"
   ]
  },
  {
   "cell_type": "code",
   "execution_count": null,
   "metadata": {},
   "outputs": [],
   "source": [
    "# Create new coordinates\n",
    "T1 = transl2(1, 2)"
   ]
  },
  {
   "cell_type": "markdown",
   "metadata": {},
   "source": [
    "Plot the homogenous transform with trplot2"
   ]
  },
  {
   "cell_type": "code",
   "execution_count": null,
   "metadata": {},
   "outputs": [],
   "source": [
    "# https://petercorke.github.io/spatialmath-python/func_2d.html?highlight=trplot#spatialmath.base.transforms2d.trplot2\n",
    "trplot2(T1, frame='1', color='blue', labels=('x','y'),block=False); # assign color and labels"
   ]
  },
  {
   "cell_type": "code",
   "execution_count": null,
   "metadata": {},
   "outputs": [],
   "source": [
    "# Can also visualize composable transformations\n",
    "T2 = transl2(2, 1)\n",
    "trplot2(T2, frame='2', color='red',block=False);"
   ]
  },
  {
   "cell_type": "markdown",
   "metadata": {},
   "source": [
    "How would a compound transformation T1 followed by T2 look like"
   ]
  },
  {
   "cell_type": "code",
   "execution_count": null,
   "metadata": {},
   "outputs": [],
   "source": [
    "T3 = T1@T2\n",
    "trplot2(T3, frame='3', color='green', block=False);"
   ]
  },
  {
   "cell_type": "code",
   "execution_count": null,
   "metadata": {},
   "outputs": [],
   "source": [
    "# Create a point W_P wrt to the world\n",
    "P = np.array([[3],[2]])\n",
    "plt.scatter(P[0].item(),P[1].item(), c='black',marker='^' );"
   ]
  },
  {
   "cell_type": "code",
   "execution_count": null,
   "metadata": {},
   "outputs": [],
   "source": [
    "# Where, 1_T_W = inv(W_T_1)\n",
    "# 1_P = 1_T_W * W_P\n",
    "P1 = np.matmul(np.linalg.inv(T1),e2h(P))\n",
    "print(P1)"
   ]
  },
  {
   "cell_type": "code",
   "execution_count": null,
   "metadata": {},
   "outputs": [],
   "source": [
    "# Plot the point\n",
    "plt.scatter( h2e(P1)[0],h2e(P1)[1],c='red');\n",
    "print(h2e(P1))"
   ]
  },
  {
   "cell_type": "code",
   "execution_count": null,
   "metadata": {},
   "outputs": [],
   "source": [
    "# 2_P = 2_T_W * W_P\n",
    "P2 = np.matmul(np.linalg.inv(T2),e2h(P))\n",
    "print(P2)"
   ]
  }
 ],
 "metadata": {
  "kernelspec": {
   "display_name": "Python 3",
   "language": "python",
   "name": "python3"
  },
  "language_info": {
   "codemirror_mode": {
    "name": "ipython",
    "version": 3
   },
   "file_extension": ".py",
   "mimetype": "text/x-python",
   "name": "python",
   "nbconvert_exporter": "python",
   "pygments_lexer": "ipython3",
   "version": "3.8.5"
  }
 },
 "nbformat": 4,
 "nbformat_minor": 4
}
