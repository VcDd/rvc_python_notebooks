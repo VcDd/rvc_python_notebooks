{
 "cells": [
  {
   "cell_type": "code",
   "execution_count": null,
   "metadata": {},
   "outputs": [],
   "source": [
    "# Works best with jupyter-notebook"
   ]
  },
  {
   "cell_type": "code",
   "execution_count": null,
   "metadata": {},
   "outputs": [],
   "source": [
    "%matplotlib notebook \n",
    "#%matplotlib widget \n",
    "# https://ipython.readthedocs.io/en/stable/interactive/magics.html\n",
    "import math\n",
    "import numpy as np\n",
    "\n",
    "import roboticstoolbox as rtb\n",
    "\n",
    "from spatialmath import *\n",
    "from spatialmath.base import *\n",
    "import spatialmath.base.symbolic as sym\n",
    "\n",
    "import matplotlib.pyplot as plt\n",
    "\n",
    "from roboticstoolbox import ETS as ets\n",
    "np.set_printoptions(linewidth=100, formatter={'float': lambda x: f\"{x:8.4g}\" if abs(x) > 1e-10 else f\"{0:8.4g}\"})"
   ]
  },
  {
   "cell_type": "markdown",
   "metadata": {},
   "source": [
    "# Lecture 5.4 - 4 DoF Serial Link Robot"
   ]
  },
  {
   "cell_type": "markdown",
   "metadata": {},
   "source": [
    "In this section we will model a 4 DoF serial link manipulator like N\n",
    "\n",
    "To start, it is important to define the home position. In this case, we will have the arm pointing straight up, with fingers also pointing to the sky."
   ]
  },
  {
   "cell_type": "code",
   "execution_count": null,
   "metadata": {},
   "outputs": [],
   "source": [
    "# Create symbolic variables a1, a2, a3, a4 , q1, q2, q3 and q4 to represent the link lengths and the joint angles\n",
    "\n",
    "a1 = sym.symbol('a1')\n",
    "q1 = sym.symbol('q1')\n",
    "\n",
    "a2 = sym.symbol('a2')\n",
    "q2 = sym.symbol('q2')\n",
    "\n",
    "a3 = sym.symbol('a3')\n",
    "q3 = sym.symbol('q3')\n",
    "\n",
    "a4 = sym.symbol('a4')\n",
    "q4 = sym.symbol('q4')\n",
    "\n",
    "e = ets.rz(q1)*ets.tz(a1)*ets.ry(q2)*ets.tz(a2)*ets.ry(q3)*ets.tz(a3)*ets.ry(q4)*ets.tz(a4)\n",
    "print(e)"
   ]
  },
  {
   "cell_type": "markdown",
   "metadata": {},
   "source": [
    "If you would like to see the Homogneous transform for the end effector pose wrt to the base, use the eval() method.\n",
    "\n",
    "Use pretty print, to get a nice output."
   ]
  },
  {
   "cell_type": "code",
   "execution_count": null,
   "metadata": {},
   "outputs": [],
   "source": [
    "ee_pose = e.eval()\n",
    "import pprint\n",
    "pprint.pprint(ee_pose)"
   ]
  },
  {
   "cell_type": "code",
   "execution_count": null,
   "metadata": {},
   "outputs": [],
   "source": [
    "sym.simplify(ee_pose.A)"
   ]
  },
  {
   "cell_type": "code",
   "execution_count": null,
   "metadata": {},
   "outputs": [],
   "source": [
    "type(ee_pose.A)"
   ]
  },
  {
   "cell_type": "markdown",
   "metadata": {},
   "source": [
    "Print out the mathematical representation of the coordinates in simplied form using the .A method"
   ]
  },
  {
   "cell_type": "code",
   "execution_count": null,
   "metadata": {},
   "outputs": [],
   "source": [
    "# x-coordinates\n",
    "sym.simplify(ee_pose.A[0,3])"
   ]
  },
  {
   "cell_type": "code",
   "execution_count": null,
   "metadata": {},
   "outputs": [],
   "source": [
    "# y-coordinate\n",
    "sym.simplify(ee_pose.A[1,3])"
   ]
  },
  {
   "cell_type": "code",
   "execution_count": null,
   "metadata": {},
   "outputs": [],
   "source": [
    "# y-coordinate\n",
    "sym.simplify(ee_pose.A[2,3])"
   ]
  }
 ],
 "metadata": {
  "kernelspec": {
   "display_name": "Python 3",
   "language": "python",
   "name": "python3"
  },
  "language_info": {
   "codemirror_mode": {
    "name": "ipython",
    "version": 3
   },
   "file_extension": ".py",
   "mimetype": "text/x-python",
   "name": "python",
   "nbconvert_exporter": "python",
   "pygments_lexer": "ipython3",
   "version": "3.8.5"
  }
 },
 "nbformat": 4,
 "nbformat_minor": 4
}
