{
 "cells": [
  {
   "cell_type": "markdown",
   "metadata": {},
   "source": [
    "# RVC 1, Ch2.2\n",
    "https://petercorke.github.io/spatialmath-python/func_3d.html"
   ]
  },
  {
   "cell_type": "code",
   "execution_count": 1,
   "metadata": {},
   "outputs": [],
   "source": [
    "# Works best with jupyter-notebook"
   ]
  },
  {
   "cell_type": "code",
   "execution_count": 2,
   "metadata": {},
   "outputs": [],
   "source": [
    "%matplotlib notebook \n",
    "#%matplotlib widget \n",
    "# https://ipython.readthedocs.io/en/stable/interactive/magics.html\n",
    "import numpy as np\n",
    "\n",
    "from spatialmath import *\n",
    "from spatialmath.base import *\n",
    "from roboticstoolbox import *\n",
    "import matplotlib.pyplot as plt\n",
    "\n",
    "np.set_printoptions(linewidth=100, formatter={'float': lambda x: f\"{x:8.4g}\" if abs(x) > 1e-10 else f\"{0:8.4g}\"})"
   ]
  },
  {
   "cell_type": "markdown",
   "metadata": {},
   "source": [
    "## Lec 3.7 Rotations are Non-Commutative"
   ]
  },
  {
   "cell_type": "code",
   "execution_count": null,
   "metadata": {},
   "outputs": [],
   "source": [
    "# A rotation of 90 degrees about x-axis followed by a rotation of 90 degrees about the y-axis, gives a resulting rotation matrix:\n",
    "fig=plt.figure()\n",
    "SE3().plot(dims=[-1,1],color='black')\n",
    "Rx=SO3.Rx(1.57)\n",
    "Ry=SO3.Ry(1.57)\n",
    "R1=Rx*Ry\n",
    "print(R1)"
   ]
  },
  {
   "cell_type": "code",
   "execution_count": null,
   "metadata": {},
   "outputs": [],
   "source": [
    "# Now print the opposite order rotation. \n",
    "R2=Ry*Rx\n",
    "R2.plot(color='red',frame='R2')"
   ]
  },
  {
   "cell_type": "markdown",
   "metadata": {},
   "source": [
    "Other operations that the SE3 class supports are:\n",
    "\n",
    "| Constructor   |  motion |\n",
    "|---------------|-----------|\n",
    "| SE3()      | null motion |\n",
    "| SE3.Tx(d)  |  translation along X-axis |\n",
    "| SE3.Ty(d)  |  translation along Y-axis |\n",
    "| SE3.Tz(d)  |  translation along Z-axis |\n",
    "| SE3.Rx(theta)  |  rotation about X-axis |\n",
    "| SE3.Ry(theta)  |  rotation about Y-axis|\n",
    "| SE3.Rz(theta)  |  rotation about Z-axis|\n",
    "| SE3.RPY(rpy)  |  rotation from roll-pitch-yaw angle vector|\n",
    "| SE3.Eul(euler)  | rotation from Euler angle vector |\n",
    "| SE3.AngVec(theta, v)  | rotation from rotation and axis |\n",
    "| SO3.Omega(v)  | from a twist vector |\n",
    "| SE3.OA(ovec, avec)  | rotation from orientation and approach vectors |"
   ]
  },
  {
   "cell_type": "markdown",
   "metadata": {},
   "source": [
    "---"
   ]
  }
 ],
 "metadata": {
  "kernelspec": {
   "display_name": "Python 3",
   "language": "python",
   "name": "python3"
  },
  "language_info": {
   "codemirror_mode": {
    "name": "ipython",
    "version": 3
   },
   "file_extension": ".py",
   "mimetype": "text/x-python",
   "name": "python",
   "nbconvert_exporter": "python",
   "pygments_lexer": "ipython3",
   "version": "3.8.5"
  }
 },
 "nbformat": 4,
 "nbformat_minor": 2
}
