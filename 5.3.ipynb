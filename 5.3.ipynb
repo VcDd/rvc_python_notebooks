{
 "cells": [
  {
   "cell_type": "code",
   "execution_count": 1,
   "metadata": {},
   "outputs": [],
   "source": [
    "# Works best with jupyter-notebook"
   ]
  },
  {
   "cell_type": "code",
   "execution_count": 4,
   "metadata": {},
   "outputs": [],
   "source": [
    "%matplotlib notebook \n",
    "#%matplotlib widget \n",
    "# https://ipython.readthedocs.io/en/stable/interactive/magics.html\n",
    "import math\n",
    "import numpy as np\n",
    "\n",
    "import roboticstoolbox as rtb\n",
    "from roboticstoolbox import ETS as ets\n",
    "\n",
    "from spatialmath import *\n",
    "from spatialmath.base import *\n",
    "import spatialmath.base.symbolic as sym\n",
    "\n",
    "import matplotlib.pyplot as plt\n",
    "np.set_printoptions(linewidth=100, formatter={'float': lambda x: f\"{x:8.4g}\" if abs(x) > 1e-10 else f\"{0:8.4g}\"})"
   ]
  },
  {
   "cell_type": "markdown",
   "metadata": {},
   "source": [
    "# Lecture 5.3"
   ]
  },
  {
   "cell_type": "markdown",
   "metadata": {},
   "source": [
    "Let's now model a 3-joint planar robot, whose transforms are more complicated. We can still use ETS."
   ]
  },
  {
   "cell_type": "code",
   "execution_count": 5,
   "metadata": {},
   "outputs": [
    {
     "name": "stdout",
     "output_type": "stream",
     "text": [
      "┏━━━━┳━━━━━┳━━━━┳━━━━━━┓\n",
      "┃θⱼ  ┃ dⱼ  ┃ aⱼ ┃  ⍺ⱼ  ┃\n",
      "┣━━━━╋━━━━━╋━━━━╋━━━━━━┫\n",
      "┃ q1\u001b[0m ┃ 0.0\u001b[0m ┃  1\u001b[0m ┃ 0.0°\u001b[0m ┃\n",
      "┃ q2\u001b[0m ┃ 0.0\u001b[0m ┃  1\u001b[0m ┃ 0.0°\u001b[0m ┃\n",
      "┃ q3\u001b[0m ┃ 0.0\u001b[0m ┃  1\u001b[0m ┃ 0.0°\u001b[0m ┃\n",
      "┗━━━━┻━━━━━┻━━━━┻━━━━━━┛\n",
      "\n",
      "┌─────┬─────┬─────┬─────┐\n",
      "│name │ q0  │ q1  │ q2  │\n",
      "├─────┼─────┼─────┼─────┤\n",
      "│  qz\u001b[0m │  0°\u001b[0m │  0°\u001b[0m │  0°\u001b[0m │\n",
      "└─────┴─────┴─────┴─────┘\n",
      "\n"
     ]
    }
   ],
   "source": [
    "#import 3-joint planar robot model\n",
    "robot = rtb.models.DH.Planar3()\n",
    "print(robot)"
   ]
  },
  {
   "cell_type": "code",
   "execution_count": 6,
   "metadata": {},
   "outputs": [
    {
     "name": "stdout",
     "output_type": "stream",
     "text": [
      "Rz(q1) * tx(a1) * Rz(q2) * tx(a2) * Rz(q3) * tx(a3)\n"
     ]
    }
   ],
   "source": [
    "#To create a symbolic representation of the homogenous transformation matrix\n",
    "a1 = sym.symbol('a1')\n",
    "q1 = sym.symbol('q1')\n",
    "a2 = sym.symbol('a2')\n",
    "q2 = sym.symbol('q2')\n",
    "a3 = sym.symbol('a3')\n",
    "q3 = sym.symbol('q3')\n",
    "\n",
    "e = ets.rz(q1)*ets.tx(a1)*ets.rz(q2)*ets.tx(a2)*ets.rz(q3)*ets.tx(a3)\n",
    "print(e)\n"
   ]
  },
  {
   "cell_type": "code",
   "execution_count": 14,
   "metadata": {},
   "outputs": [],
   "source": [
    "#A 3 joint planar model can be created using the planar3 toolbox model\n",
    "import matplotlib; #matplotlib.use(\"nbAgg\") \n",
    "from mpl_toolkits.mplot3d import Axes3D\n",
    "\n",
    "robot.q=[0, np.pi/2, np.pi/2]\n",
    "e = robot.teach2()\n",
    "# e = robot.teach() # works best outside the notebook."
   ]
  },
  {
   "cell_type": "code",
   "execution_count": 16,
   "metadata": {},
   "outputs": [],
   "source": [
    "robot.q2=[np.pi/2, -np.pi/2, -np.pi/2]\n",
    "#e = robot.teach()\n",
    "robot.plot(robot.q2);"
   ]
  }
 ],
 "metadata": {
  "kernelspec": {
   "display_name": "Python 3",
   "language": "python",
   "name": "python3"
  },
  "language_info": {
   "codemirror_mode": {
    "name": "ipython",
    "version": 3
   },
   "file_extension": ".py",
   "mimetype": "text/x-python",
   "name": "python",
   "nbconvert_exporter": "python",
   "pygments_lexer": "ipython3",
   "version": "3.8.5"
  }
 },
 "nbformat": 4,
 "nbformat_minor": 4
}
