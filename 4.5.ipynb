{
 "cells": [
  {
   "cell_type": "code",
   "execution_count": null,
   "metadata": {},
   "outputs": [],
   "source": [
    "# Works best with jupyter-notebook"
   ]
  },
  {
   "cell_type": "code",
   "execution_count": null,
   "metadata": {},
   "outputs": [],
   "source": [
    "%matplotlib notebook \n",
    "#%matplotlib widget \n",
    "# https://ipython.readthedocs.io/en/stable/interactive/magics.html\n",
    "import numpy as np\n",
    "import math\n",
    "from spatialmath import *\n",
    "from spatialmath.base import *\n",
    "from collections import namedtuple\n",
    "from roboticstoolbox import *\n",
    "import roboticstoolbox.tools.trajectory as tr\n",
    "import matplotlib.pyplot as plt\n",
    "\n",
    "np.set_printoptions(linewidth=100, formatter={'float': lambda x: f\"{x:8.4g}\" if abs(x) > 1e-10 else f\"{0:8.4g}\"})"
   ]
  },
  {
   "cell_type": "markdown",
   "metadata": {},
   "source": [
    "# Lecture 4.4"
   ]
  },
  {
   "cell_type": "markdown",
   "metadata": {},
   "source": [
    "Multidimensional smooth trajectories"
   ]
  },
  {
   "cell_type": "code",
   "execution_count": null,
   "metadata": {
    "scrolled": true
   },
   "outputs": [],
   "source": [
    "#Set a first point of (10, 20) and a last point of (30, 10):\n",
    "first=np.array([10,20])\n",
    "last=np.array([30,10])\n",
    "print(first, last)"
   ]
  },
  {
   "cell_type": "markdown",
   "metadata": {},
   "source": [
    "Compute a trajectory using the toolbox function jtraj(), \n",
    "accepting arguments of the first point, the last point and the number of timesteps:\n",
    "\n",
    "tg = jtraj(q0, qf, M): is a joint space trajectory where the joint\n",
    "coordinates vary from ``q0`` (N) to ``qf`` (N).  \n",
    "\n",
    "A quintic (5th order) polynomial is used with default zero boundary conditions for velocity and acceleration."
   ]
  },
  {
   "cell_type": "code",
   "execution_count": null,
   "metadata": {},
   "outputs": [],
   "source": [
    "timesteps = 50\n",
    "out = tr.jtraj(first, last, timesteps)"
   ]
  },
  {
   "cell_type": "code",
   "execution_count": null,
   "metadata": {},
   "outputs": [],
   "source": [
    "t   = out.t   # time coordinate\n",
    "print(out.t.shape) # pos, vel, acc\n",
    "# print(t[1::5,1])\n",
    "\n",
    "x   = out.q   # trajectory\n",
    "print(x.shape)\n",
    "print(x[1,:])\n",
    "print(x[25,:])\n",
    "print(x[-1,:])\n",
    "\n",
    "xd  = out.qd  # velocity\n",
    "xdd = out.qdd # acceleration"
   ]
  },
  {
   "cell_type": "code",
   "execution_count": null,
   "metadata": {},
   "outputs": [],
   "source": [
    "#plot trajectory \n",
    "fig1=plt.figure(1);\n",
    "plt.xlabel('time (secs)');\n",
    "plt.ylabel('Position (x)');\n",
    "plt.plot(x);"
   ]
  },
  {
   "cell_type": "markdown",
   "metadata": {},
   "source": [
    "Plot the velocity graph for the two joints over time"
   ]
  },
  {
   "cell_type": "code",
   "execution_count": null,
   "metadata": {},
   "outputs": [],
   "source": [
    "#plot velocity\n",
    "fig2=plt.figure(2)\n",
    "plt.xlabel('time (secs)');\n",
    "plt.ylabel('velocity xd (units/sec)');\n",
    "plt.plot(xd);"
   ]
  },
  {
   "cell_type": "markdown",
   "metadata": {},
   "source": [
    "You may also desire to specify initial and final velocities to each axis."
   ]
  },
  {
   "cell_type": "code",
   "execution_count": null,
   "metadata": {},
   "outputs": [],
   "source": [
    "#An initial and final velocity can also be specified by supplying additional input arguments. \n",
    "#In this case we will ask for the initial velocity to be 0 units/second \n",
    "#and the final velocity to be 10 units/second in each axis:\n",
    "first = np.array([10,20])\n",
    "last  = np.array([30,10])\n",
    "qd0   = [0,0]\n",
    "qdf   = [10,10]\n",
    "\n",
    "out = tr.jtraj(first, last, timesteps, qd0, qdf)\n"
   ]
  },
  {
   "cell_type": "code",
   "execution_count": null,
   "metadata": {},
   "outputs": [],
   "source": [
    "t   = out.t     # time coordinate\n",
    "x   = out.q     # trajectory\n",
    "xd  = out.qd    # velocity\n",
    "xdd = out.qdd   # acceleration"
   ]
  },
  {
   "cell_type": "markdown",
   "metadata": {},
   "source": [
    "## 2D Example with Via-Points"
   ]
  },
  {
   "cell_type": "markdown",
   "metadata": {},
   "source": [
    "A 2D trajectory with via points can also be computed. But to do this, we will need indendent vectors with blends. \n",
    "\n",
    "We can use mstraj as before. \n",
    "\n",
    "Set a first point of (40, 50) and via points at (60, 30), (40, 10), (20, 30) and returning back to the start position. It makes a diamond, starting at the top vertex and then moving clock-wise."
   ]
  },
  {
   "cell_type": "code",
   "execution_count": null,
   "metadata": {},
   "outputs": [],
   "source": [
    "start=np.array([40,50])\n",
    "via=np.array([\n",
    "    [40,50],\n",
    "    [60,30],\n",
    "    [40,10],\n",
    "    [20,30],\n",
    "    [40,50]\n",
    "    ])\n",
    "print(\"Starting point at top of the diamond is: \", start)\n",
    "print(\"Then move clock-wise around the diamond: \\n\", via)"
   ]
  },
  {
   "cell_type": "markdown",
   "metadata": {},
   "source": [
    "---\n",
    "Compute the trajectory using the toolbox function **mstraj()**.\n",
    "Provide:\n",
    "- **multi-dimensional via points**\n",
    "\n",
    "- a velocity of 2 units/second, \n",
    "- null segment velocities, \n",
    "- the start position, \n",
    "- the time step of 0.1 seconds \n",
    "- the acceleration time of 1 second:"
   ]
  },
  {
   "cell_type": "code",
   "execution_count": null,
   "metadata": {},
   "outputs": [],
   "source": [
    "dt   = 0.1\n",
    "tacc = 1\n",
    "qdmax= 2\n",
    "\n",
    "out=tr.mstraj(via, dt, tacc, qdmax, q0=start)"
   ]
  },
  {
   "cell_type": "code",
   "execution_count": null,
   "metadata": {},
   "outputs": [],
   "source": [
    "print(\"The trajectory lasts a total of \", out.t[-1], \" secs.\")\n",
    "\n",
    "print(\"The segments times are as follows \\n\", out.arrive)\n",
    " \n",
    "print(\"My via points are: \\n\", out.via.squeeze())\n",
    "\n",
    "#print(\"Print out every nth point of the trajectory \\n\", out.q[0::10])\n",
    "#out.info # Useful with more axis"
   ]
  },
  {
   "cell_type": "markdown",
   "metadata": {},
   "source": [
    "Plot the figure of the joint angles for each joint. "
   ]
  },
  {
   "cell_type": "code",
   "execution_count": null,
   "metadata": {},
   "outputs": [],
   "source": [
    "# Plot\n",
    "fig4=plt.figure(4)\n",
    "plt.plot(out.q);"
   ]
  },
  {
   "cell_type": "markdown",
   "metadata": {},
   "source": [
    "There is another interesting way to plot this graph. \n",
    "\n",
    "Plotting the first coordinate versus the second coordinate shows the motion of the point on the xy-plane:"
   ]
  },
  {
   "cell_type": "code",
   "execution_count": null,
   "metadata": {},
   "outputs": [],
   "source": [
    "fig5=plt.figure(5)\n",
    "plt.plot(out.q[:,0], out.q[:,1], color='black');\n",
    "plt.xlabel('x');\n",
    "plt.ylabel('y');"
   ]
  },
  {
   "cell_type": "markdown",
   "metadata": {},
   "source": [
    "## What if we want each axis to move at a different velocity?"
   ]
  },
  {
   "cell_type": "markdown",
   "metadata": {},
   "source": [
    "The velocity of each axis can be specified separately by passing a velocity vector qdmax. \n",
    "\n",
    "In this case a velocity of 1 unit/second in the x-axis and 3 units/second in the y-axis:"
   ]
  },
  {
   "cell_type": "code",
   "execution_count": null,
   "metadata": {},
   "outputs": [],
   "source": [
    "dt   = 0.1\n",
    "tacc = 1.0\n",
    "qdmax = [1,3]\n",
    "\n",
    "out=tr.mstraj(via, dt, tacc, qdmax, q0=start)"
   ]
  },
  {
   "cell_type": "code",
   "execution_count": null,
   "metadata": {},
   "outputs": [],
   "source": [
    "# plot with independent velocity profile\n",
    "fig6=plt.figure(6)\n",
    "plt.plot(out.q);"
   ]
  },
  {
   "cell_type": "markdown",
   "metadata": {},
   "source": [
    "What do you notice about the duration of the above graph? "
   ]
  },
  {
   "cell_type": "markdown",
   "metadata": {},
   "source": [
    "What is the ration of qdmax before to the slower axis now?"
   ]
  },
  {
   "cell_type": "markdown",
   "metadata": {},
   "source": [
    "---\n",
    "We can again plot the 1st vs 2nd coordinate to show the xy motion:\n"
   ]
  },
  {
   "cell_type": "code",
   "execution_count": null,
   "metadata": {},
   "outputs": [],
   "source": [
    "fig7=plt.figure(7)\n",
    "plt.plot(out.q[:,0], out.q[:,1]);\n",
    "plt.xlabel('x');\n",
    "plt.ylabel('y');"
   ]
  },
  {
   "cell_type": "code",
   "execution_count": null,
   "metadata": {},
   "outputs": [],
   "source": []
  }
 ],
 "metadata": {
  "kernelspec": {
   "display_name": "Python 3",
   "language": "python",
   "name": "python3"
  },
  "language_info": {
   "codemirror_mode": {
    "name": "ipython",
    "version": 3
   },
   "file_extension": ".py",
   "mimetype": "text/x-python",
   "name": "python",
   "nbconvert_exporter": "python",
   "pygments_lexer": "ipython3",
   "version": "3.8.5"
  }
 },
 "nbformat": 4,
 "nbformat_minor": 4
}
