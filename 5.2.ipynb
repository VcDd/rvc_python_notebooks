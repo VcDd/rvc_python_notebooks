{
 "cells": [
  {
   "cell_type": "code",
   "execution_count": 2,
   "metadata": {},
   "outputs": [],
   "source": [
    "# Works best with jupyter-notebook"
   ]
  },
  {
   "cell_type": "code",
   "execution_count": 3,
   "metadata": {},
   "outputs": [],
   "source": [
    "%matplotlib notebook \n",
    "#%matplotlib widget \n",
    "# https://ipython.readthedocs.io/en/stable/interactive/magics.html\n",
    "import math\n",
    "import numpy as np\n",
    "\n",
    "import roboticstoolbox as rtb\n",
    "from roboticstoolbox import ETS as ets\n",
    "\n",
    "from spatialmath.base import *\n",
    "import spatialmath.base.symbolic as sym\n",
    "\n",
    "import matplotlib.pyplot as plt\n",
    "np.set_printoptions(linewidth=100, formatter={'float': lambda x: f\"{x:8.4g}\" if abs(x) > 1e-10 else f\"{0:8.4g}\"})"
   ]
  },
  {
   "cell_type": "markdown",
   "metadata": {},
   "source": [
    "# Lecture 5.2"
   ]
  },
  {
   "cell_type": "markdown",
   "metadata": {},
   "source": [
    "To start, let's create a 2-joint planar robot model "
   ]
  },
  {
   "cell_type": "code",
   "execution_count": 4,
   "metadata": {},
   "outputs": [
    {
     "name": "stdout",
     "output_type": "stream",
     "text": [
      "┏━━━━┳━━━━━┳━━━━┳━━━━━━┓\n",
      "┃θⱼ  ┃ dⱼ  ┃ aⱼ ┃  ⍺ⱼ  ┃\n",
      "┣━━━━╋━━━━━╋━━━━╋━━━━━━┫\n",
      "┃ q1\u001b[0m ┃ 0.0\u001b[0m ┃  1\u001b[0m ┃ 0.0°\u001b[0m ┃\n",
      "┃ q2\u001b[0m ┃ 0.0\u001b[0m ┃  1\u001b[0m ┃ 0.0°\u001b[0m ┃\n",
      "┗━━━━┻━━━━━┻━━━━┻━━━━━━┛\n",
      "\n",
      "┌─────┬──────┬──────┐\n",
      "│name │ q0   │ q1   │\n",
      "├─────┼──────┼──────┤\n",
      "│  qz\u001b[0m │  0°\u001b[0m  │  0°\u001b[0m  │\n",
      "│  q1\u001b[0m │  0°\u001b[0m  │  90°\u001b[0m │\n",
      "│  q2\u001b[0m │  90°\u001b[0m │ -90°\u001b[0m │\n",
      "└─────┴──────┴──────┘\n",
      "\n"
     ]
    }
   ],
   "source": [
    "#import 2-joint planar robot model\n",
    "robot = rtb.models.DH.Planar2()\n",
    "print(robot)"
   ]
  },
  {
   "cell_type": "markdown",
   "metadata": {},
   "source": [
    "Evaluate an ETS with joint coordinate substitution:\n",
    "eval(self, q=None, unit='rad')"
   ]
  },
  {
   "cell_type": "markdown",
   "metadata": {},
   "source": [
    "Create variables a1,a2 and q1,q2. These variables represent the links lengths and joint angles."
   ]
  },
  {
   "cell_type": "code",
   "execution_count": 5,
   "metadata": {},
   "outputs": [],
   "source": [
    "# Links \n",
    "a1=1\n",
    "a2=1\n",
    "\n",
    "# Angles\n",
    "q1=0\n",
    "q2=math.pi/2\n",
    "\n",
    "robot.addconfiguration(\"q\", [q1, q2])"
   ]
  },
  {
   "cell_type": "markdown",
   "metadata": {},
   "source": [
    "To create a homogenous transformation matrix that represents the 2-joint robot end effector pose, we need to provide the chain of transformations joint angles q and link distances a."
   ]
  },
  {
   "cell_type": "code",
   "execution_count": 6,
   "metadata": {
    "scrolled": true
   },
   "outputs": [
    {
     "name": "stdout",
     "output_type": "stream",
     "text": [
      "Rz(0°) * tx(1) * Rz(90°) * tx(1)\n"
     ]
    },
    {
     "data": {
      "text/plain": [
       "SE3:  \u001b[38;5;1m 0          \u001b[0m\u001b[38;5;1m-1          \u001b[0m\u001b[38;5;1m 0          \u001b[0m\u001b[38;5;4m 1          \u001b[0m  \u001b[0m\n",
       "      \u001b[38;5;1m 1          \u001b[0m\u001b[38;5;1m 0          \u001b[0m\u001b[38;5;1m 0          \u001b[0m\u001b[38;5;4m 1          \u001b[0m  \u001b[0m\n",
       "      \u001b[38;5;1m 0          \u001b[0m\u001b[38;5;1m 0          \u001b[0m\u001b[38;5;1m 1          \u001b[0m\u001b[38;5;4m 0          \u001b[0m  \u001b[0m\n",
       "      \u001b[38;5;244m 0          \u001b[0m\u001b[38;5;244m 0          \u001b[0m\u001b[38;5;244m 0          \u001b[0m\u001b[38;5;244m 1          \u001b[0m  \u001b[0m\n",
       "    "
      ]
     },
     "execution_count": 6,
     "metadata": {},
     "output_type": "execute_result"
    }
   ],
   "source": [
    "e = ets.rz(q1)*ets.tx(a1)*ets.rz(q2)*ets.tx(a2)\n",
    "print(e)\n",
    "e.eval(robot.q)"
   ]
  },
  {
   "cell_type": "markdown",
   "metadata": {},
   "source": [
    "### Symbolic Representations"
   ]
  },
  {
   "cell_type": "markdown",
   "metadata": {},
   "source": [
    "To create a symbolic representation of the homogenous transformation matrix, use the symoblix module as follows"
   ]
  },
  {
   "cell_type": "code",
   "execution_count": 8,
   "metadata": {},
   "outputs": [
    {
     "name": "stdout",
     "output_type": "stream",
     "text": [
      "Rz(q1) * tx(a1) * Rz(q2) * tx(a2)\n"
     ]
    }
   ],
   "source": [
    "a1 = sym.symbol('a1')\n",
    "q1 = sym.symbol('q1')\n",
    "a2 = sym.symbol('a2')\n",
    "q2 = sym.symbol('q2')\n",
    "\n",
    "e = ets.rz(q1)*ets.tx(a1)*ets.rz(q2)*ets.tx(a2)\n",
    "print(e)"
   ]
  },
  {
   "cell_type": "code",
   "execution_count": 9,
   "metadata": {},
   "outputs": [
    {
     "data": {
      "text/plain": [
       "array([[-sin(q1)*sin(q2) + cos(q1)*cos(q2), -sin(q1)*cos(q2) - sin(q2)*cos(q1), 0,\n",
       "        a1*cos(q1) + a2*(-sin(q1)*sin(q2) + cos(q1)*cos(q2))],\n",
       "       [sin(q1)*cos(q2) + sin(q2)*cos(q1), -sin(q1)*sin(q2) + cos(q1)*cos(q2), 0,\n",
       "        a1*sin(q1) + a2*(sin(q1)*cos(q2) + sin(q2)*cos(q1))],\n",
       "       [0, 0, 1, 0],\n",
       "       [0, 0, 0, 1]], dtype=object)"
      ]
     },
     "execution_count": 9,
     "metadata": {},
     "output_type": "execute_result"
    }
   ],
   "source": [
    "e.T()\n",
    "e.eval().A"
   ]
  },
  {
   "cell_type": "markdown",
   "metadata": {},
   "source": [
    "We can set the robot with an initial joint angle configureation and then use teach2() (2D) and teach (3D) to start"
   ]
  },
  {
   "cell_type": "code",
   "execution_count": 21,
   "metadata": {},
   "outputs": [
    {
     "ename": "RuntimeError",
     "evalue": "cannot use teach panel under Jupyter",
     "output_type": "error",
     "traceback": [
      "\u001b[0;31m---------------------------------------------------------------------------\u001b[0m",
      "\u001b[0;31mRuntimeError\u001b[0m                              Traceback (most recent call last)",
      "\u001b[0;32m<ipython-input-21-1b7ac09b973e>\u001b[0m in \u001b[0;36m<module>\u001b[0;34m\u001b[0m\n\u001b[1;32m      5\u001b[0m \u001b[0;31m#e = robot.teach2()\u001b[0m\u001b[0;34m\u001b[0m\u001b[0;34m\u001b[0m\u001b[0;34m\u001b[0m\u001b[0m\n\u001b[1;32m      6\u001b[0m \u001b[0;31m#Try outside of notebook\u001b[0m\u001b[0;34m\u001b[0m\u001b[0;34m\u001b[0m\u001b[0;34m\u001b[0m\u001b[0m\n\u001b[0;32m----> 7\u001b[0;31m \u001b[0me\u001b[0m \u001b[0;34m=\u001b[0m \u001b[0mrobot\u001b[0m\u001b[0;34m.\u001b[0m\u001b[0mteach\u001b[0m\u001b[0;34m(\u001b[0m\u001b[0;34m)\u001b[0m\u001b[0;34m\u001b[0m\u001b[0;34m\u001b[0m\u001b[0m\n\u001b[0m",
      "\u001b[0;32m/media/juan/sdd/python/toolbox/robotics-toolbox-python/roboticstoolbox/robot/Robot.py\u001b[0m in \u001b[0;36mteach\u001b[0;34m(self, q, block, order, limits, jointaxes, eeframe, shadow, name)\u001b[0m\n\u001b[1;32m   1349\u001b[0m             jointaxes=jointaxes, eeframe=eeframe, shadow=shadow, name=name)\n\u001b[1;32m   1350\u001b[0m \u001b[0;34m\u001b[0m\u001b[0m\n\u001b[0;32m-> 1351\u001b[0;31m         \u001b[0menv\u001b[0m\u001b[0;34m.\u001b[0m\u001b[0m_add_teach_panel\u001b[0m\u001b[0;34m(\u001b[0m\u001b[0mself\u001b[0m\u001b[0;34m)\u001b[0m\u001b[0;34m\u001b[0m\u001b[0;34m\u001b[0m\u001b[0m\n\u001b[0m\u001b[1;32m   1352\u001b[0m \u001b[0;34m\u001b[0m\u001b[0m\n\u001b[1;32m   1353\u001b[0m         \u001b[0;31m# Keep the plot open\u001b[0m\u001b[0;34m\u001b[0m\u001b[0;34m\u001b[0m\u001b[0;34m\u001b[0m\u001b[0m\n",
      "\u001b[0;32m/media/juan/sdd/python/toolbox/robotics-toolbox-python/roboticstoolbox/backends/PyPlot/PyPlot.py\u001b[0m in \u001b[0;36m_add_teach_panel\u001b[0;34m(self, robot)\u001b[0m\n\u001b[1;32m    399\u001b[0m \u001b[0;34m\u001b[0m\u001b[0m\n\u001b[1;32m    400\u001b[0m         \u001b[0;32mif\u001b[0m \u001b[0m_isnotebook\u001b[0m\u001b[0;34m(\u001b[0m\u001b[0;34m)\u001b[0m\u001b[0;34m:\u001b[0m\u001b[0;34m\u001b[0m\u001b[0;34m\u001b[0m\u001b[0m\n\u001b[0;32m--> 401\u001b[0;31m             \u001b[0;32mraise\u001b[0m \u001b[0mRuntimeError\u001b[0m\u001b[0;34m(\u001b[0m\u001b[0;34m'cannot use teach panel under Jupyter'\u001b[0m\u001b[0;34m)\u001b[0m\u001b[0;34m\u001b[0m\u001b[0;34m\u001b[0m\u001b[0m\n\u001b[0m\u001b[1;32m    402\u001b[0m \u001b[0;34m\u001b[0m\u001b[0m\n\u001b[1;32m    403\u001b[0m         \u001b[0mfig\u001b[0m \u001b[0;34m=\u001b[0m \u001b[0mself\u001b[0m\u001b[0;34m.\u001b[0m\u001b[0mfig\u001b[0m\u001b[0;34m\u001b[0m\u001b[0;34m\u001b[0m\u001b[0m\n",
      "\u001b[0;31mRuntimeError\u001b[0m: cannot use teach panel under Jupyter"
     ]
    }
   ],
   "source": [
    "import matplotlib; #matplotlib.use(\"nbAgg\") \n",
    "from mpl_toolkits.mplot3d import Axes3D\n",
    "\n",
    "robot.q=[0, np.pi/2]\n",
    "#e = robot.teach2()\n",
    "#Try outside of notebook \n",
    "e = robot.teach()"
   ]
  },
  {
   "cell_type": "markdown",
   "metadata": {},
   "source": [
    "Notice, that we can reach the same configuration from a different set of angles. I.e. there are 2 solutions for each position"
   ]
  },
  {
   "cell_type": "code",
   "execution_count": null,
   "metadata": {},
   "outputs": [],
   "source": [
    "robot.q=[np.pi/2, -np.pi/2]\n",
    "robot.plot2(robot.q)\n",
    "# Try outside of notebook: robot.plot(robot.q)"
   ]
  },
  {
   "cell_type": "markdown",
   "metadata": {},
   "source": [
    "### A 2D Robot Model"
   ]
  },
  {
   "cell_type": "markdown",
   "metadata": {},
   "source": [
    "We can also import the model of a planar 2 robot (1 DoF robot not available in the rtb toolbox)"
   ]
  },
  {
   "cell_type": "code",
   "execution_count": null,
   "metadata": {},
   "outputs": [],
   "source": [
    "robot = rtb.models.DH.Planar2()\n",
    "print(robot)"
   ]
  },
  {
   "cell_type": "markdown",
   "metadata": {},
   "source": [
    "The model has many interesting methods. One of which let's you interact with the robot directly in 2D or 3D."
   ]
  },
  {
   "cell_type": "code",
   "execution_count": null,
   "metadata": {},
   "outputs": [],
   "source": [
    "import matplotlib; matplotlib.use(\"nbAgg\") #THIS IS THE MAGIC \n",
    "from mpl_toolkits.mplot3d import Axes3D\n",
    "#e = robot.teach2()\n",
    "e = robot.teach()"
   ]
  }
 ],
 "metadata": {
  "kernelspec": {
   "display_name": "Python 3",
   "language": "python",
   "name": "python3"
  },
  "language_info": {
   "codemirror_mode": {
    "name": "ipython",
    "version": 3
   },
   "file_extension": ".py",
   "mimetype": "text/x-python",
   "name": "python",
   "nbconvert_exporter": "python",
   "pygments_lexer": "ipython3",
   "version": "3.8.5"
  }
 },
 "nbformat": 4,
 "nbformat_minor": 4
}
