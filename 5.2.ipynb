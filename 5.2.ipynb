{
 "cells": [
  {
   "cell_type": "code",
   "execution_count": null,
   "metadata": {},
   "outputs": [],
   "source": [
    "# Works best with jupyter-notebook"
   ]
  },
  {
   "cell_type": "code",
   "execution_count": null,
   "metadata": {},
   "outputs": [],
   "source": [
    "%matplotlib notebook \n",
    "#%matplotlib widget \n",
    "# https://ipython.readthedocs.io/en/stable/interactive/magics.html\n",
    "import math\n",
    "import numpy as np\n",
    "\n",
    "import roboticstoolbox as rtb\n",
    "from roboticstoolbox import ETS as ets\n",
    "\n",
    "from spatialmath.base import *\n",
    "import spatialmath.base.symbolic as sym\n",
    "\n",
    "import matplotlib.pyplot as plt\n",
    "np.set_printoptions(linewidth=100, formatter={'float': lambda x: f\"{x:8.4g}\" if abs(x) > 1e-10 else f\"{0:8.4g}\"})"
   ]
  },
  {
   "cell_type": "markdown",
   "metadata": {},
   "source": [
    "# Lecture 5.2"
   ]
  },
  {
   "cell_type": "markdown",
   "metadata": {},
   "source": [
    "To start, let's create a 2-joint planar robot model "
   ]
  },
  {
   "cell_type": "code",
   "execution_count": null,
   "metadata": {},
   "outputs": [],
   "source": [
    "#import 2-joint planar robot model\n",
    "robot = rtb.models.DH.Planar2()\n",
    "print(robot)"
   ]
  },
  {
   "cell_type": "markdown",
   "metadata": {},
   "source": [
    "Evaluate an ETS with joint coordinate substitution:\n",
    "eval(self, q=None, unit='rad')"
   ]
  },
  {
   "cell_type": "markdown",
   "metadata": {},
   "source": [
    "Create variables a1,a2 and q1,q2. These variables represent the links lengths and joint angles."
   ]
  },
  {
   "cell_type": "code",
   "execution_count": null,
   "metadata": {},
   "outputs": [],
   "source": [
    "# Links \n",
    "a1=1\n",
    "a2=1\n",
    "\n",
    "# Angles\n",
    "q1=0.2\n",
    "q2=0.3\n",
    "\n",
    "robot.addconfiguration(\"q\", [q1, q2])"
   ]
  },
  {
   "cell_type": "markdown",
   "metadata": {},
   "source": [
    "To create a homogenous transformation matrix that represents the 2-joint robot end effector pose, we need to provide the chain of transformations joint angles q and link distances a."
   ]
  },
  {
   "cell_type": "code",
   "execution_count": null,
   "metadata": {
    "scrolled": true
   },
   "outputs": [],
   "source": [
    "e = ets.rz(q1)*ets.tx(a1)*ets.rz(q2)*ets.tx(a2)\n",
    "print(e)\n",
    "e.eval(robot.q)"
   ]
  },
  {
   "cell_type": "markdown",
   "metadata": {},
   "source": [
    "### Symbolic Representations"
   ]
  },
  {
   "cell_type": "markdown",
   "metadata": {},
   "source": [
    "To create a symbolic representation of the homogenous transformation matrix, use the symoblix module as follows"
   ]
  },
  {
   "cell_type": "code",
   "execution_count": null,
   "metadata": {},
   "outputs": [],
   "source": [
    "a1 = sym.symbol('a1')\n",
    "q1 = sym.symbol('q1')\n",
    "a2 = sym.symbol('a2')\n",
    "q2 = sym.symbol('q2')\n",
    "\n",
    "e = ets.rz(q1)*ets.tx(a1)*ets.rz(q2)*ets.tx(a2)\n",
    "print(e)"
   ]
  },
  {
   "cell_type": "markdown",
   "metadata": {},
   "source": [
    "We can set the robot with an initial joint angle configureation and then use teach to start"
   ]
  },
  {
   "cell_type": "code",
   "execution_count": null,
   "metadata": {},
   "outputs": [],
   "source": [
    "import matplotlib; #matplotlib.use(\"nbAgg\") \n",
    "from mpl_toolkits.mplot3d import Axes3D\n",
    "\n",
    "robot.q=[0, np.pi/2]\n",
    "e = robot.teach2()\n",
    "# Try outside of notebook e = robot.teach2()"
   ]
  },
  {
   "cell_type": "markdown",
   "metadata": {},
   "source": [
    "Notice, that we can reach the same configuration from a different set of angles. I.e. there are 2 solutions for each position"
   ]
  },
  {
   "cell_type": "code",
   "execution_count": null,
   "metadata": {},
   "outputs": [],
   "source": [
    "robot.q=[np.pi/2, -np.pi/2]\n",
    "robot.plot2(robot.q)\n",
    "# Try outside of notebook: robot.plot(robot.q)"
   ]
  },
  {
   "cell_type": "markdown",
   "metadata": {},
   "source": [
    "### A 2D Robot Model"
   ]
  },
  {
   "cell_type": "markdown",
   "metadata": {},
   "source": [
    "We can also import the model of a planar 2 robot (1 DoF robot not available in the rtb toolbox)"
   ]
  },
  {
   "cell_type": "code",
   "execution_count": null,
   "metadata": {},
   "outputs": [],
   "source": [
    "robot = rtb.models.DH.Planar2()\n",
    "print(robot)"
   ]
  },
  {
   "cell_type": "markdown",
   "metadata": {},
   "source": [
    "The model has many interesting methods. One of which let's you interact with the robot directly in 2D or 3D."
   ]
  },
  {
   "cell_type": "code",
   "execution_count": null,
   "metadata": {},
   "outputs": [],
   "source": [
    "import matplotlib; matplotlib.use(\"nbAgg\") #THIS IS THE MAGIC \n",
    "from mpl_toolkits.mplot3d import Axes3D\n",
    "#e = robot.teach2()\n",
    "e = robot.teach()"
   ]
  }
 ],
 "metadata": {
  "kernelspec": {
   "display_name": "Python 3",
   "language": "python",
   "name": "python3"
  },
  "language_info": {
   "codemirror_mode": {
    "name": "ipython",
    "version": 3
   },
   "file_extension": ".py",
   "mimetype": "text/x-python",
   "name": "python",
   "nbconvert_exporter": "python",
   "pygments_lexer": "ipython3",
   "version": "3.8.5"
  }
 },
 "nbformat": 4,
 "nbformat_minor": 4
}
