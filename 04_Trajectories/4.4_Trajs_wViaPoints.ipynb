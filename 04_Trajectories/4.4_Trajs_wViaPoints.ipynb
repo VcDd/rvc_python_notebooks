{
 "cells": [
  {
   "cell_type": "code",
   "execution_count": 1,
   "metadata": {},
   "outputs": [],
   "source": [
    "# Works best with jupyter-notebook"
   ]
  },
  {
   "cell_type": "code",
   "execution_count": 2,
   "metadata": {},
   "outputs": [],
   "source": [
    "%matplotlib notebook \n",
    "#%matplotlib widget \n",
    "# https://ipython.readthedocs.io/en/stable/interactive/magics.html\n",
    "import numpy as np\n",
    "\n",
    "#from spatialmath import *\n",
    "#from spatialmath.base import *\n",
    "\n",
    "from roboticstoolbox import *\n",
    "import roboticstoolbox.tools.trajectory as tr\n",
    "\n",
    "import matplotlib.pyplot as plt\n",
    "np.set_printoptions(linewidth=50, formatter={'float': lambda x: f\"{x:6.4g}\" if abs(x) > 1e-10 else f\"{0:6.4g}\"})"
   ]
  },
  {
   "cell_type": "markdown",
   "metadata": {},
   "source": [
    "# Lecture 4.4 - Trajectories with Via Points"
   ]
  },
  {
   "cell_type": "markdown",
   "metadata": {},
   "source": [
    "What happens when instead of wanting a simple trajectory from point A to point B, we want a more complicated trajectory for the robot's end-effector?\n",
    "\n",
    "Think of human skills...\n",
    "- We may have simple line motions from a to b... \n",
    "- But we may also have harmonic motions like those in walking, running, ridying a bike, swimming...\n",
    "- Or what about opening a door with a key...\n",
    "- Making artifacts...\n",
    "\n",
    "Things get a ibt more complicated. "
   ]
  },
  {
   "cell_type": "markdown",
   "metadata": {},
   "source": [
    "Let's start with a very simply 1D problem with 3 points (including start and finish) and two segments. I encourage you to try more complicated waypoints by yourself."
   ]
  },
  {
   "cell_type": "code",
   "execution_count": 3,
   "metadata": {
    "scrolled": true
   },
   "outputs": [
    {
     "name": "stdout",
     "output_type": "stream",
     "text": [
      "First:  10 \n",
      "Last:  10 \n",
      "Via Points: \n",
      " [10 20 10]\n"
     ]
    }
   ],
   "source": [
    "#Set a first point of 10, a last point of 30 and via points of 10, 20, 10 and the last point\n",
    "first = np.array(10)\n",
    "last  = np.array(10)\n",
    "\n",
    "via = np.array([\n",
    "    [10],\n",
    "    [20],\n",
    "    [10]\n",
    "    ])\n",
    "\n",
    "print(\"First: \", first, \"\\nLast: \", last, \"\\nVia Points: \\n\", via.squeeze())"
   ]
  },
  {
   "cell_type": "markdown",
   "metadata": {},
   "source": [
    "Compute a trajectory with via points using the toolbox function **mstraj()**.\n",
    "\n",
    "Params: \n",
    " - via points (one per row)\n",
    " - time step <secs> (dt)\n",
    " - acceleration time <secs> (tacc)\n",
    "    \n",
    "   \n",
    " - max speed, defaults to none <units/sec> (qd)\n",
    " - max time of each motion segment <secs> (tseg)\n",
    "    \n",
    "    \n",
    " - initial via point position\n",
    " - initial via point velocity\n",
    "    \n",
    "    \n",
    " - returns trajectory plus extra info <tuple> as a named tuple\n",
    "    \n",
    "The return value is a namedtuple (named ``mstraj``) with elements:\n",
    "    \n",
    "        - t:  time as a numpy ndarray, shape=(K,)\n",
    "        - q:  axis values as a numpy ndarray, shape=(K,N)\n",
    "        - arrive: list of arrival times for each segment\n",
    "        - info: named tuples list, one per segment, describe (slowest axis, segment time, time stamp)\n",
    "        - via: the passed set of via points\n",
    "    \n",
    "    The  trajectory proper is (``traj.t``, ``traj.q``).  The trajectory is a matrix has one row per time step, and one column per axis.\n"
   ]
  },
  {
   "cell_type": "code",
   "execution_count": 4,
   "metadata": {},
   "outputs": [
    {
     "name": "stdout",
     "output_type": "stream",
     "text": [
      "1 0.1 [    11]\n",
      "2 0.2 [    12]\n",
      "3 0.3 [    13]\n",
      "4 0.4 [    14]\n",
      "5 0.5 [    15]\n",
      "6 0.6 [    16]\n",
      "7 0.7 [    17]\n",
      "8 0.8 [    18]\n",
      "9 0.9 [    19]\n",
      "10 1.0 [    20]\n",
      "1 0.1 [    19]\n",
      "2 0.2 [    18]\n",
      "3 0.3 [    17]\n",
      "4 0.4 [    16]\n",
      "5 0.5 [    15]\n",
      "6 0.6 [    14]\n",
      "7 0.7 [    13]\n",
      "8 0.8 [    12]\n",
      "9 0.9 [    11]\n",
      "10 1.0 [    10]\n"
     ]
    },
    {
     "name": "stderr",
     "output_type": "stream",
     "text": [
      "/media/juan/sdd/python/toolbox/robotics-toolbox-python/roboticstoolbox/tools/trajectory.py:727: RuntimeWarning: invalid value encountered in true_divide\n",
      "  qd = dq / tseg\n",
      "/media/juan/sdd/python/toolbox/robotics-toolbox-python/roboticstoolbox/tools/trajectory.py:267: RuntimeWarning: invalid value encountered in true_divide\n",
      "  t = tv.flatten() / tscal\n"
     ]
    }
   ],
   "source": [
    "speed = 1   # velocity is 1 unit/second\n",
    "dt    = 1   # time interval 0.1 seconds\n",
    "tacc  = 0   # acceleration time 2 secondsb\n",
    "\n",
    "out = tr.mstraj(via, dt, tacc, qdmax=speed, q0=first)"
   ]
  },
  {
   "cell_type": "markdown",
   "metadata": {},
   "source": [
    "Notice how the information above is divided into two segments. You can further experiment with changing dt to other values. "
   ]
  },
  {
   "cell_type": "markdown",
   "metadata": {},
   "source": [
    "Duration Information:"
   ]
  },
  {
   "cell_type": "code",
   "execution_count": 5,
   "metadata": {},
   "outputs": [
    {
     "name": "stdout",
     "output_type": "stream",
     "text": [
      "[ 0  1  2  3  4  5  6  7  8  9 10 11 12 13 14 15\n",
      " 16 17 18 19]\n",
      "The trajectory lasts a total of  20  secs.\n"
     ]
    }
   ],
   "source": [
    "b"
   ]
  },
  {
   "cell_type": "markdown",
   "metadata": {},
   "source": [
    "Position Information:"
   ]
  },
  {
   "cell_type": "code",
   "execution_count": 6,
   "metadata": {},
   "outputs": [
    {
     "name": "stdout",
     "output_type": "stream",
     "text": [
      "The path visited by the end-effector would have been: \n",
      " [    11     12     13     14     15     16     17\n",
      "     18     19     20     19     18     17     16\n",
      "     15     14     13     12     11     10]\n",
      "The length of the trajectory is:  20\n"
     ]
    }
   ],
   "source": [
    "print('The path visited by the end-effector would have been: \\n', out.q.squeeze())\n",
    "print('The length of the trajectory is: ', len(out.q))"
   ]
  },
  {
   "cell_type": "markdown",
   "metadata": {},
   "source": [
    "Segment Time Arrivals:"
   ]
  },
  {
   "cell_type": "code",
   "execution_count": 7,
   "metadata": {},
   "outputs": [
    {
     "name": "stdout",
     "output_type": "stream",
     "text": [
      "The segments times are as follows \n",
      " [     0     10     20]\n"
     ]
    }
   ],
   "source": [
    "print(\"The segments times are as follows \\n\", out.arrive)"
   ]
  },
  {
   "cell_type": "markdown",
   "metadata": {},
   "source": [
    "Via point information:"
   ]
  },
  {
   "cell_type": "code",
   "execution_count": 8,
   "metadata": {},
   "outputs": [
    {
     "name": "stdout",
     "output_type": "stream",
     "text": [
      "My via points are: \n",
      " [10 20 10]\n"
     ]
    }
   ],
   "source": [
    "print(\"My via points are: \\n\", out.via.squeeze())"
   ]
  },
  {
   "cell_type": "markdown",
   "metadata": {},
   "source": [
    "### Plotting \n",
    "\n",
    "We can also plot the position over time... and we can compare vs. different set of input arguments."
   ]
  },
  {
   "cell_type": "code",
   "execution_count": 9,
   "metadata": {},
   "outputs": [
    {
     "data": {
      "application/javascript": [
       "/* Put everything inside the global mpl namespace */\n",
       "window.mpl = {};\n",
       "\n",
       "\n",
       "mpl.get_websocket_type = function() {\n",
       "    if (typeof(WebSocket) !== 'undefined') {\n",
       "        return WebSocket;\n",
       "    } else if (typeof(MozWebSocket) !== 'undefined') {\n",
       "        return MozWebSocket;\n",
       "    } else {\n",
       "        alert('Your browser does not have WebSocket support. ' +\n",
       "              'Please try Chrome, Safari or Firefox ≥ 6. ' +\n",
       "              'Firefox 4 and 5 are also supported but you ' +\n",
       "              'have to enable WebSockets in about:config.');\n",
       "    };\n",
       "}\n",
       "\n",
       "mpl.figure = function(figure_id, websocket, ondownload, parent_element) {\n",
       "    this.id = figure_id;\n",
       "\n",
       "    this.ws = websocket;\n",
       "\n",
       "    this.supports_binary = (this.ws.binaryType != undefined);\n",
       "\n",
       "    if (!this.supports_binary) {\n",
       "        var warnings = document.getElementById(\"mpl-warnings\");\n",
       "        if (warnings) {\n",
       "            warnings.style.display = 'block';\n",
       "            warnings.textContent = (\n",
       "                \"This browser does not support binary websocket messages. \" +\n",
       "                    \"Performance may be slow.\");\n",
       "        }\n",
       "    }\n",
       "\n",
       "    this.imageObj = new Image();\n",
       "\n",
       "    this.context = undefined;\n",
       "    this.message = undefined;\n",
       "    this.canvas = undefined;\n",
       "    this.rubberband_canvas = undefined;\n",
       "    this.rubberband_context = undefined;\n",
       "    this.format_dropdown = undefined;\n",
       "\n",
       "    this.image_mode = 'full';\n",
       "\n",
       "    this.root = $('<div/>');\n",
       "    this._root_extra_style(this.root)\n",
       "    this.root.attr('style', 'display: inline-block');\n",
       "\n",
       "    $(parent_element).append(this.root);\n",
       "\n",
       "    this._init_header(this);\n",
       "    this._init_canvas(this);\n",
       "    this._init_toolbar(this);\n",
       "\n",
       "    var fig = this;\n",
       "\n",
       "    this.waiting = false;\n",
       "\n",
       "    this.ws.onopen =  function () {\n",
       "            fig.send_message(\"supports_binary\", {value: fig.supports_binary});\n",
       "            fig.send_message(\"send_image_mode\", {});\n",
       "            if (mpl.ratio != 1) {\n",
       "                fig.send_message(\"set_dpi_ratio\", {'dpi_ratio': mpl.ratio});\n",
       "            }\n",
       "            fig.send_message(\"refresh\", {});\n",
       "        }\n",
       "\n",
       "    this.imageObj.onload = function() {\n",
       "            if (fig.image_mode == 'full') {\n",
       "                // Full images could contain transparency (where diff images\n",
       "                // almost always do), so we need to clear the canvas so that\n",
       "                // there is no ghosting.\n",
       "                fig.context.clearRect(0, 0, fig.canvas.width, fig.canvas.height);\n",
       "            }\n",
       "            fig.context.drawImage(fig.imageObj, 0, 0);\n",
       "        };\n",
       "\n",
       "    this.imageObj.onunload = function() {\n",
       "        fig.ws.close();\n",
       "    }\n",
       "\n",
       "    this.ws.onmessage = this._make_on_message_function(this);\n",
       "\n",
       "    this.ondownload = ondownload;\n",
       "}\n",
       "\n",
       "mpl.figure.prototype._init_header = function() {\n",
       "    var titlebar = $(\n",
       "        '<div class=\"ui-dialog-titlebar ui-widget-header ui-corner-all ' +\n",
       "        'ui-helper-clearfix\"/>');\n",
       "    var titletext = $(\n",
       "        '<div class=\"ui-dialog-title\" style=\"width: 100%; ' +\n",
       "        'text-align: center; padding: 3px;\"/>');\n",
       "    titlebar.append(titletext)\n",
       "    this.root.append(titlebar);\n",
       "    this.header = titletext[0];\n",
       "}\n",
       "\n",
       "\n",
       "\n",
       "mpl.figure.prototype._canvas_extra_style = function(canvas_div) {\n",
       "\n",
       "}\n",
       "\n",
       "\n",
       "mpl.figure.prototype._root_extra_style = function(canvas_div) {\n",
       "\n",
       "}\n",
       "\n",
       "mpl.figure.prototype._init_canvas = function() {\n",
       "    var fig = this;\n",
       "\n",
       "    var canvas_div = $('<div/>');\n",
       "\n",
       "    canvas_div.attr('style', 'position: relative; clear: both; outline: 0');\n",
       "\n",
       "    function canvas_keyboard_event(event) {\n",
       "        return fig.key_event(event, event['data']);\n",
       "    }\n",
       "\n",
       "    canvas_div.keydown('key_press', canvas_keyboard_event);\n",
       "    canvas_div.keyup('key_release', canvas_keyboard_event);\n",
       "    this.canvas_div = canvas_div\n",
       "    this._canvas_extra_style(canvas_div)\n",
       "    this.root.append(canvas_div);\n",
       "\n",
       "    var canvas = $('<canvas/>');\n",
       "    canvas.addClass('mpl-canvas');\n",
       "    canvas.attr('style', \"left: 0; top: 0; z-index: 0; outline: 0\")\n",
       "\n",
       "    this.canvas = canvas[0];\n",
       "    this.context = canvas[0].getContext(\"2d\");\n",
       "\n",
       "    var backingStore = this.context.backingStorePixelRatio ||\n",
       "\tthis.context.webkitBackingStorePixelRatio ||\n",
       "\tthis.context.mozBackingStorePixelRatio ||\n",
       "\tthis.context.msBackingStorePixelRatio ||\n",
       "\tthis.context.oBackingStorePixelRatio ||\n",
       "\tthis.context.backingStorePixelRatio || 1;\n",
       "\n",
       "    mpl.ratio = (window.devicePixelRatio || 1) / backingStore;\n",
       "\n",
       "    var rubberband = $('<canvas/>');\n",
       "    rubberband.attr('style', \"position: absolute; left: 0; top: 0; z-index: 1;\")\n",
       "\n",
       "    var pass_mouse_events = true;\n",
       "\n",
       "    canvas_div.resizable({\n",
       "        start: function(event, ui) {\n",
       "            pass_mouse_events = false;\n",
       "        },\n",
       "        resize: function(event, ui) {\n",
       "            fig.request_resize(ui.size.width, ui.size.height);\n",
       "        },\n",
       "        stop: function(event, ui) {\n",
       "            pass_mouse_events = true;\n",
       "            fig.request_resize(ui.size.width, ui.size.height);\n",
       "        },\n",
       "    });\n",
       "\n",
       "    function mouse_event_fn(event) {\n",
       "        if (pass_mouse_events)\n",
       "            return fig.mouse_event(event, event['data']);\n",
       "    }\n",
       "\n",
       "    rubberband.mousedown('button_press', mouse_event_fn);\n",
       "    rubberband.mouseup('button_release', mouse_event_fn);\n",
       "    // Throttle sequential mouse events to 1 every 20ms.\n",
       "    rubberband.mousemove('motion_notify', mouse_event_fn);\n",
       "\n",
       "    rubberband.mouseenter('figure_enter', mouse_event_fn);\n",
       "    rubberband.mouseleave('figure_leave', mouse_event_fn);\n",
       "\n",
       "    canvas_div.on(\"wheel\", function (event) {\n",
       "        event = event.originalEvent;\n",
       "        event['data'] = 'scroll'\n",
       "        if (event.deltaY < 0) {\n",
       "            event.step = 1;\n",
       "        } else {\n",
       "            event.step = -1;\n",
       "        }\n",
       "        mouse_event_fn(event);\n",
       "    });\n",
       "\n",
       "    canvas_div.append(canvas);\n",
       "    canvas_div.append(rubberband);\n",
       "\n",
       "    this.rubberband = rubberband;\n",
       "    this.rubberband_canvas = rubberband[0];\n",
       "    this.rubberband_context = rubberband[0].getContext(\"2d\");\n",
       "    this.rubberband_context.strokeStyle = \"#000000\";\n",
       "\n",
       "    this._resize_canvas = function(width, height) {\n",
       "        // Keep the size of the canvas, canvas container, and rubber band\n",
       "        // canvas in synch.\n",
       "        canvas_div.css('width', width)\n",
       "        canvas_div.css('height', height)\n",
       "\n",
       "        canvas.attr('width', width * mpl.ratio);\n",
       "        canvas.attr('height', height * mpl.ratio);\n",
       "        canvas.attr('style', 'width: ' + width + 'px; height: ' + height + 'px;');\n",
       "\n",
       "        rubberband.attr('width', width);\n",
       "        rubberband.attr('height', height);\n",
       "    }\n",
       "\n",
       "    // Set the figure to an initial 600x600px, this will subsequently be updated\n",
       "    // upon first draw.\n",
       "    this._resize_canvas(600, 600);\n",
       "\n",
       "    // Disable right mouse context menu.\n",
       "    $(this.rubberband_canvas).bind(\"contextmenu\",function(e){\n",
       "        return false;\n",
       "    });\n",
       "\n",
       "    function set_focus () {\n",
       "        canvas.focus();\n",
       "        canvas_div.focus();\n",
       "    }\n",
       "\n",
       "    window.setTimeout(set_focus, 100);\n",
       "}\n",
       "\n",
       "mpl.figure.prototype._init_toolbar = function() {\n",
       "    var fig = this;\n",
       "\n",
       "    var nav_element = $('<div/>');\n",
       "    nav_element.attr('style', 'width: 100%');\n",
       "    this.root.append(nav_element);\n",
       "\n",
       "    // Define a callback function for later on.\n",
       "    function toolbar_event(event) {\n",
       "        return fig.toolbar_button_onclick(event['data']);\n",
       "    }\n",
       "    function toolbar_mouse_event(event) {\n",
       "        return fig.toolbar_button_onmouseover(event['data']);\n",
       "    }\n",
       "\n",
       "    for(var toolbar_ind in mpl.toolbar_items) {\n",
       "        var name = mpl.toolbar_items[toolbar_ind][0];\n",
       "        var tooltip = mpl.toolbar_items[toolbar_ind][1];\n",
       "        var image = mpl.toolbar_items[toolbar_ind][2];\n",
       "        var method_name = mpl.toolbar_items[toolbar_ind][3];\n",
       "\n",
       "        if (!name) {\n",
       "            // put a spacer in here.\n",
       "            continue;\n",
       "        }\n",
       "        var button = $('<button/>');\n",
       "        button.addClass('ui-button ui-widget ui-state-default ui-corner-all ' +\n",
       "                        'ui-button-icon-only');\n",
       "        button.attr('role', 'button');\n",
       "        button.attr('aria-disabled', 'false');\n",
       "        button.click(method_name, toolbar_event);\n",
       "        button.mouseover(tooltip, toolbar_mouse_event);\n",
       "\n",
       "        var icon_img = $('<span/>');\n",
       "        icon_img.addClass('ui-button-icon-primary ui-icon');\n",
       "        icon_img.addClass(image);\n",
       "        icon_img.addClass('ui-corner-all');\n",
       "\n",
       "        var tooltip_span = $('<span/>');\n",
       "        tooltip_span.addClass('ui-button-text');\n",
       "        tooltip_span.html(tooltip);\n",
       "\n",
       "        button.append(icon_img);\n",
       "        button.append(tooltip_span);\n",
       "\n",
       "        nav_element.append(button);\n",
       "    }\n",
       "\n",
       "    var fmt_picker_span = $('<span/>');\n",
       "\n",
       "    var fmt_picker = $('<select/>');\n",
       "    fmt_picker.addClass('mpl-toolbar-option ui-widget ui-widget-content');\n",
       "    fmt_picker_span.append(fmt_picker);\n",
       "    nav_element.append(fmt_picker_span);\n",
       "    this.format_dropdown = fmt_picker[0];\n",
       "\n",
       "    for (var ind in mpl.extensions) {\n",
       "        var fmt = mpl.extensions[ind];\n",
       "        var option = $(\n",
       "            '<option/>', {selected: fmt === mpl.default_extension}).html(fmt);\n",
       "        fmt_picker.append(option);\n",
       "    }\n",
       "\n",
       "    // Add hover states to the ui-buttons\n",
       "    $( \".ui-button\" ).hover(\n",
       "        function() { $(this).addClass(\"ui-state-hover\");},\n",
       "        function() { $(this).removeClass(\"ui-state-hover\");}\n",
       "    );\n",
       "\n",
       "    var status_bar = $('<span class=\"mpl-message\"/>');\n",
       "    nav_element.append(status_bar);\n",
       "    this.message = status_bar[0];\n",
       "}\n",
       "\n",
       "mpl.figure.prototype.request_resize = function(x_pixels, y_pixels) {\n",
       "    // Request matplotlib to resize the figure. Matplotlib will then trigger a resize in the client,\n",
       "    // which will in turn request a refresh of the image.\n",
       "    this.send_message('resize', {'width': x_pixels, 'height': y_pixels});\n",
       "}\n",
       "\n",
       "mpl.figure.prototype.send_message = function(type, properties) {\n",
       "    properties['type'] = type;\n",
       "    properties['figure_id'] = this.id;\n",
       "    this.ws.send(JSON.stringify(properties));\n",
       "}\n",
       "\n",
       "mpl.figure.prototype.send_draw_message = function() {\n",
       "    if (!this.waiting) {\n",
       "        this.waiting = true;\n",
       "        this.ws.send(JSON.stringify({type: \"draw\", figure_id: this.id}));\n",
       "    }\n",
       "}\n",
       "\n",
       "\n",
       "mpl.figure.prototype.handle_save = function(fig, msg) {\n",
       "    var format_dropdown = fig.format_dropdown;\n",
       "    var format = format_dropdown.options[format_dropdown.selectedIndex].value;\n",
       "    fig.ondownload(fig, format);\n",
       "}\n",
       "\n",
       "\n",
       "mpl.figure.prototype.handle_resize = function(fig, msg) {\n",
       "    var size = msg['size'];\n",
       "    if (size[0] != fig.canvas.width || size[1] != fig.canvas.height) {\n",
       "        fig._resize_canvas(size[0], size[1]);\n",
       "        fig.send_message(\"refresh\", {});\n",
       "    };\n",
       "}\n",
       "\n",
       "mpl.figure.prototype.handle_rubberband = function(fig, msg) {\n",
       "    var x0 = msg['x0'] / mpl.ratio;\n",
       "    var y0 = (fig.canvas.height - msg['y0']) / mpl.ratio;\n",
       "    var x1 = msg['x1'] / mpl.ratio;\n",
       "    var y1 = (fig.canvas.height - msg['y1']) / mpl.ratio;\n",
       "    x0 = Math.floor(x0) + 0.5;\n",
       "    y0 = Math.floor(y0) + 0.5;\n",
       "    x1 = Math.floor(x1) + 0.5;\n",
       "    y1 = Math.floor(y1) + 0.5;\n",
       "    var min_x = Math.min(x0, x1);\n",
       "    var min_y = Math.min(y0, y1);\n",
       "    var width = Math.abs(x1 - x0);\n",
       "    var height = Math.abs(y1 - y0);\n",
       "\n",
       "    fig.rubberband_context.clearRect(\n",
       "        0, 0, fig.canvas.width / mpl.ratio, fig.canvas.height / mpl.ratio);\n",
       "\n",
       "    fig.rubberband_context.strokeRect(min_x, min_y, width, height);\n",
       "}\n",
       "\n",
       "mpl.figure.prototype.handle_figure_label = function(fig, msg) {\n",
       "    // Updates the figure title.\n",
       "    fig.header.textContent = msg['label'];\n",
       "}\n",
       "\n",
       "mpl.figure.prototype.handle_cursor = function(fig, msg) {\n",
       "    var cursor = msg['cursor'];\n",
       "    switch(cursor)\n",
       "    {\n",
       "    case 0:\n",
       "        cursor = 'pointer';\n",
       "        break;\n",
       "    case 1:\n",
       "        cursor = 'default';\n",
       "        break;\n",
       "    case 2:\n",
       "        cursor = 'crosshair';\n",
       "        break;\n",
       "    case 3:\n",
       "        cursor = 'move';\n",
       "        break;\n",
       "    }\n",
       "    fig.rubberband_canvas.style.cursor = cursor;\n",
       "}\n",
       "\n",
       "mpl.figure.prototype.handle_message = function(fig, msg) {\n",
       "    fig.message.textContent = msg['message'];\n",
       "}\n",
       "\n",
       "mpl.figure.prototype.handle_draw = function(fig, msg) {\n",
       "    // Request the server to send over a new figure.\n",
       "    fig.send_draw_message();\n",
       "}\n",
       "\n",
       "mpl.figure.prototype.handle_image_mode = function(fig, msg) {\n",
       "    fig.image_mode = msg['mode'];\n",
       "}\n",
       "\n",
       "mpl.figure.prototype.updated_canvas_event = function() {\n",
       "    // Called whenever the canvas gets updated.\n",
       "    this.send_message(\"ack\", {});\n",
       "}\n",
       "\n",
       "// A function to construct a web socket function for onmessage handling.\n",
       "// Called in the figure constructor.\n",
       "mpl.figure.prototype._make_on_message_function = function(fig) {\n",
       "    return function socket_on_message(evt) {\n",
       "        if (evt.data instanceof Blob) {\n",
       "            /* FIXME: We get \"Resource interpreted as Image but\n",
       "             * transferred with MIME type text/plain:\" errors on\n",
       "             * Chrome.  But how to set the MIME type?  It doesn't seem\n",
       "             * to be part of the websocket stream */\n",
       "            evt.data.type = \"image/png\";\n",
       "\n",
       "            /* Free the memory for the previous frames */\n",
       "            if (fig.imageObj.src) {\n",
       "                (window.URL || window.webkitURL).revokeObjectURL(\n",
       "                    fig.imageObj.src);\n",
       "            }\n",
       "\n",
       "            fig.imageObj.src = (window.URL || window.webkitURL).createObjectURL(\n",
       "                evt.data);\n",
       "            fig.updated_canvas_event();\n",
       "            fig.waiting = false;\n",
       "            return;\n",
       "        }\n",
       "        else if (typeof evt.data === 'string' && evt.data.slice(0, 21) == \"data:image/png;base64\") {\n",
       "            fig.imageObj.src = evt.data;\n",
       "            fig.updated_canvas_event();\n",
       "            fig.waiting = false;\n",
       "            return;\n",
       "        }\n",
       "\n",
       "        var msg = JSON.parse(evt.data);\n",
       "        var msg_type = msg['type'];\n",
       "\n",
       "        // Call the  \"handle_{type}\" callback, which takes\n",
       "        // the figure and JSON message as its only arguments.\n",
       "        try {\n",
       "            var callback = fig[\"handle_\" + msg_type];\n",
       "        } catch (e) {\n",
       "            console.log(\"No handler for the '\" + msg_type + \"' message type: \", msg);\n",
       "            return;\n",
       "        }\n",
       "\n",
       "        if (callback) {\n",
       "            try {\n",
       "                // console.log(\"Handling '\" + msg_type + \"' message: \", msg);\n",
       "                callback(fig, msg);\n",
       "            } catch (e) {\n",
       "                console.log(\"Exception inside the 'handler_\" + msg_type + \"' callback:\", e, e.stack, msg);\n",
       "            }\n",
       "        }\n",
       "    };\n",
       "}\n",
       "\n",
       "// from http://stackoverflow.com/questions/1114465/getting-mouse-location-in-canvas\n",
       "mpl.findpos = function(e) {\n",
       "    //this section is from http://www.quirksmode.org/js/events_properties.html\n",
       "    var targ;\n",
       "    if (!e)\n",
       "        e = window.event;\n",
       "    if (e.target)\n",
       "        targ = e.target;\n",
       "    else if (e.srcElement)\n",
       "        targ = e.srcElement;\n",
       "    if (targ.nodeType == 3) // defeat Safari bug\n",
       "        targ = targ.parentNode;\n",
       "\n",
       "    // jQuery normalizes the pageX and pageY\n",
       "    // pageX,Y are the mouse positions relative to the document\n",
       "    // offset() returns the position of the element relative to the document\n",
       "    var x = e.pageX - $(targ).offset().left;\n",
       "    var y = e.pageY - $(targ).offset().top;\n",
       "\n",
       "    return {\"x\": x, \"y\": y};\n",
       "};\n",
       "\n",
       "/*\n",
       " * return a copy of an object with only non-object keys\n",
       " * we need this to avoid circular references\n",
       " * http://stackoverflow.com/a/24161582/3208463\n",
       " */\n",
       "function simpleKeys (original) {\n",
       "  return Object.keys(original).reduce(function (obj, key) {\n",
       "    if (typeof original[key] !== 'object')\n",
       "        obj[key] = original[key]\n",
       "    return obj;\n",
       "  }, {});\n",
       "}\n",
       "\n",
       "mpl.figure.prototype.mouse_event = function(event, name) {\n",
       "    var canvas_pos = mpl.findpos(event)\n",
       "\n",
       "    if (name === 'button_press')\n",
       "    {\n",
       "        this.canvas.focus();\n",
       "        this.canvas_div.focus();\n",
       "    }\n",
       "\n",
       "    var x = canvas_pos.x * mpl.ratio;\n",
       "    var y = canvas_pos.y * mpl.ratio;\n",
       "\n",
       "    this.send_message(name, {x: x, y: y, button: event.button,\n",
       "                             step: event.step,\n",
       "                             guiEvent: simpleKeys(event)});\n",
       "\n",
       "    /* This prevents the web browser from automatically changing to\n",
       "     * the text insertion cursor when the button is pressed.  We want\n",
       "     * to control all of the cursor setting manually through the\n",
       "     * 'cursor' event from matplotlib */\n",
       "    event.preventDefault();\n",
       "    return false;\n",
       "}\n",
       "\n",
       "mpl.figure.prototype._key_event_extra = function(event, name) {\n",
       "    // Handle any extra behaviour associated with a key event\n",
       "}\n",
       "\n",
       "mpl.figure.prototype.key_event = function(event, name) {\n",
       "\n",
       "    // Prevent repeat events\n",
       "    if (name == 'key_press')\n",
       "    {\n",
       "        if (event.which === this._key)\n",
       "            return;\n",
       "        else\n",
       "            this._key = event.which;\n",
       "    }\n",
       "    if (name == 'key_release')\n",
       "        this._key = null;\n",
       "\n",
       "    var value = '';\n",
       "    if (event.ctrlKey && event.which != 17)\n",
       "        value += \"ctrl+\";\n",
       "    if (event.altKey && event.which != 18)\n",
       "        value += \"alt+\";\n",
       "    if (event.shiftKey && event.which != 16)\n",
       "        value += \"shift+\";\n",
       "\n",
       "    value += 'k';\n",
       "    value += event.which.toString();\n",
       "\n",
       "    this._key_event_extra(event, name);\n",
       "\n",
       "    this.send_message(name, {key: value,\n",
       "                             guiEvent: simpleKeys(event)});\n",
       "    return false;\n",
       "}\n",
       "\n",
       "mpl.figure.prototype.toolbar_button_onclick = function(name) {\n",
       "    if (name == 'download') {\n",
       "        this.handle_save(this, null);\n",
       "    } else {\n",
       "        this.send_message(\"toolbar_button\", {name: name});\n",
       "    }\n",
       "};\n",
       "\n",
       "mpl.figure.prototype.toolbar_button_onmouseover = function(tooltip) {\n",
       "    this.message.textContent = tooltip;\n",
       "};\n",
       "mpl.toolbar_items = [[\"Home\", \"Reset original view\", \"fa fa-home icon-home\", \"home\"], [\"Back\", \"Back to previous view\", \"fa fa-arrow-left icon-arrow-left\", \"back\"], [\"Forward\", \"Forward to next view\", \"fa fa-arrow-right icon-arrow-right\", \"forward\"], [\"\", \"\", \"\", \"\"], [\"Pan\", \"Pan axes with left mouse, zoom with right\", \"fa fa-arrows icon-move\", \"pan\"], [\"Zoom\", \"Zoom to rectangle\", \"fa fa-square-o icon-check-empty\", \"zoom\"], [\"\", \"\", \"\", \"\"], [\"Download\", \"Download plot\", \"fa fa-floppy-o icon-save\", \"download\"]];\n",
       "\n",
       "mpl.extensions = [\"eps\", \"pdf\", \"png\", \"ps\", \"raw\", \"svg\"];\n",
       "\n",
       "mpl.default_extension = \"png\";var comm_websocket_adapter = function(comm) {\n",
       "    // Create a \"websocket\"-like object which calls the given IPython comm\n",
       "    // object with the appropriate methods. Currently this is a non binary\n",
       "    // socket, so there is still some room for performance tuning.\n",
       "    var ws = {};\n",
       "\n",
       "    ws.close = function() {\n",
       "        comm.close()\n",
       "    };\n",
       "    ws.send = function(m) {\n",
       "        //console.log('sending', m);\n",
       "        comm.send(m);\n",
       "    };\n",
       "    // Register the callback with on_msg.\n",
       "    comm.on_msg(function(msg) {\n",
       "        //console.log('receiving', msg['content']['data'], msg);\n",
       "        // Pass the mpl event to the overridden (by mpl) onmessage function.\n",
       "        ws.onmessage(msg['content']['data'])\n",
       "    });\n",
       "    return ws;\n",
       "}\n",
       "\n",
       "mpl.mpl_figure_comm = function(comm, msg) {\n",
       "    // This is the function which gets called when the mpl process\n",
       "    // starts-up an IPython Comm through the \"matplotlib\" channel.\n",
       "\n",
       "    var id = msg.content.data.id;\n",
       "    // Get hold of the div created by the display call when the Comm\n",
       "    // socket was opened in Python.\n",
       "    var element = $(\"#\" + id);\n",
       "    var ws_proxy = comm_websocket_adapter(comm)\n",
       "\n",
       "    function ondownload(figure, format) {\n",
       "        window.open(figure.imageObj.src);\n",
       "    }\n",
       "\n",
       "    var fig = new mpl.figure(id, ws_proxy,\n",
       "                           ondownload,\n",
       "                           element.get(0));\n",
       "\n",
       "    // Call onopen now - mpl needs it, as it is assuming we've passed it a real\n",
       "    // web socket which is closed, not our websocket->open comm proxy.\n",
       "    ws_proxy.onopen();\n",
       "\n",
       "    fig.parent_element = element.get(0);\n",
       "    fig.cell_info = mpl.find_output_cell(\"<div id='\" + id + \"'></div>\");\n",
       "    if (!fig.cell_info) {\n",
       "        console.error(\"Failed to find cell for figure\", id, fig);\n",
       "        return;\n",
       "    }\n",
       "\n",
       "    var output_index = fig.cell_info[2]\n",
       "    var cell = fig.cell_info[0];\n",
       "\n",
       "};\n",
       "\n",
       "mpl.figure.prototype.handle_close = function(fig, msg) {\n",
       "    var width = fig.canvas.width/mpl.ratio\n",
       "    fig.root.unbind('remove')\n",
       "\n",
       "    // Update the output cell to use the data from the current canvas.\n",
       "    fig.push_to_output();\n",
       "    var dataURL = fig.canvas.toDataURL();\n",
       "    // Re-enable the keyboard manager in IPython - without this line, in FF,\n",
       "    // the notebook keyboard shortcuts fail.\n",
       "    IPython.keyboard_manager.enable()\n",
       "    $(fig.parent_element).html('<img src=\"' + dataURL + '\" width=\"' + width + '\">');\n",
       "    fig.close_ws(fig, msg);\n",
       "}\n",
       "\n",
       "mpl.figure.prototype.close_ws = function(fig, msg){\n",
       "    fig.send_message('closing', msg);\n",
       "    // fig.ws.close()\n",
       "}\n",
       "\n",
       "mpl.figure.prototype.push_to_output = function(remove_interactive) {\n",
       "    // Turn the data on the canvas into data in the output cell.\n",
       "    var width = this.canvas.width/mpl.ratio\n",
       "    var dataURL = this.canvas.toDataURL();\n",
       "    this.cell_info[1]['text/html'] = '<img src=\"' + dataURL + '\" width=\"' + width + '\">';\n",
       "}\n",
       "\n",
       "mpl.figure.prototype.updated_canvas_event = function() {\n",
       "    // Tell IPython that the notebook contents must change.\n",
       "    IPython.notebook.set_dirty(true);\n",
       "    this.send_message(\"ack\", {});\n",
       "    var fig = this;\n",
       "    // Wait a second, then push the new image to the DOM so\n",
       "    // that it is saved nicely (might be nice to debounce this).\n",
       "    setTimeout(function () { fig.push_to_output() }, 1000);\n",
       "}\n",
       "\n",
       "mpl.figure.prototype._init_toolbar = function() {\n",
       "    var fig = this;\n",
       "\n",
       "    var nav_element = $('<div/>');\n",
       "    nav_element.attr('style', 'width: 100%');\n",
       "    this.root.append(nav_element);\n",
       "\n",
       "    // Define a callback function for later on.\n",
       "    function toolbar_event(event) {\n",
       "        return fig.toolbar_button_onclick(event['data']);\n",
       "    }\n",
       "    function toolbar_mouse_event(event) {\n",
       "        return fig.toolbar_button_onmouseover(event['data']);\n",
       "    }\n",
       "\n",
       "    for(var toolbar_ind in mpl.toolbar_items){\n",
       "        var name = mpl.toolbar_items[toolbar_ind][0];\n",
       "        var tooltip = mpl.toolbar_items[toolbar_ind][1];\n",
       "        var image = mpl.toolbar_items[toolbar_ind][2];\n",
       "        var method_name = mpl.toolbar_items[toolbar_ind][3];\n",
       "\n",
       "        if (!name) { continue; };\n",
       "\n",
       "        var button = $('<button class=\"btn btn-default\" href=\"#\" title=\"' + name + '\"><i class=\"fa ' + image + ' fa-lg\"></i></button>');\n",
       "        button.click(method_name, toolbar_event);\n",
       "        button.mouseover(tooltip, toolbar_mouse_event);\n",
       "        nav_element.append(button);\n",
       "    }\n",
       "\n",
       "    // Add the status bar.\n",
       "    var status_bar = $('<span class=\"mpl-message\" style=\"text-align:right; float: right;\"/>');\n",
       "    nav_element.append(status_bar);\n",
       "    this.message = status_bar[0];\n",
       "\n",
       "    // Add the close button to the window.\n",
       "    var buttongrp = $('<div class=\"btn-group inline pull-right\"></div>');\n",
       "    var button = $('<button class=\"btn btn-mini btn-primary\" href=\"#\" title=\"Stop Interaction\"><i class=\"fa fa-power-off icon-remove icon-large\"></i></button>');\n",
       "    button.click(function (evt) { fig.handle_close(fig, {}); } );\n",
       "    button.mouseover('Stop Interaction', toolbar_mouse_event);\n",
       "    buttongrp.append(button);\n",
       "    var titlebar = this.root.find($('.ui-dialog-titlebar'));\n",
       "    titlebar.prepend(buttongrp);\n",
       "}\n",
       "\n",
       "mpl.figure.prototype._root_extra_style = function(el){\n",
       "    var fig = this\n",
       "    el.on(\"remove\", function(){\n",
       "\tfig.close_ws(fig, {});\n",
       "    });\n",
       "}\n",
       "\n",
       "mpl.figure.prototype._canvas_extra_style = function(el){\n",
       "    // this is important to make the div 'focusable\n",
       "    el.attr('tabindex', 0)\n",
       "    // reach out to IPython and tell the keyboard manager to turn it's self\n",
       "    // off when our div gets focus\n",
       "\n",
       "    // location in version 3\n",
       "    if (IPython.notebook.keyboard_manager) {\n",
       "        IPython.notebook.keyboard_manager.register_events(el);\n",
       "    }\n",
       "    else {\n",
       "        // location in version 2\n",
       "        IPython.keyboard_manager.register_events(el);\n",
       "    }\n",
       "\n",
       "}\n",
       "\n",
       "mpl.figure.prototype._key_event_extra = function(event, name) {\n",
       "    var manager = IPython.notebook.keyboard_manager;\n",
       "    if (!manager)\n",
       "        manager = IPython.keyboard_manager;\n",
       "\n",
       "    // Check for shift+enter\n",
       "    if (event.shiftKey && event.which == 13) {\n",
       "        this.canvas_div.blur();\n",
       "        // select the cell after this one\n",
       "        var index = IPython.notebook.find_cell_index(this.cell_info[0]);\n",
       "        IPython.notebook.select(index + 1);\n",
       "    }\n",
       "}\n",
       "\n",
       "mpl.figure.prototype.handle_save = function(fig, msg) {\n",
       "    fig.ondownload(fig, null);\n",
       "}\n",
       "\n",
       "\n",
       "mpl.find_output_cell = function(html_output) {\n",
       "    // Return the cell and output element which can be found *uniquely* in the notebook.\n",
       "    // Note - this is a bit hacky, but it is done because the \"notebook_saving.Notebook\"\n",
       "    // IPython event is triggered only after the cells have been serialised, which for\n",
       "    // our purposes (turning an active figure into a static one), is too late.\n",
       "    var cells = IPython.notebook.get_cells();\n",
       "    var ncells = cells.length;\n",
       "    for (var i=0; i<ncells; i++) {\n",
       "        var cell = cells[i];\n",
       "        if (cell.cell_type === 'code'){\n",
       "            for (var j=0; j<cell.output_area.outputs.length; j++) {\n",
       "                var data = cell.output_area.outputs[j];\n",
       "                if (data.data) {\n",
       "                    // IPython >= 3 moved mimebundle to data attribute of output\n",
       "                    data = data.data;\n",
       "                }\n",
       "                if (data['text/html'] == html_output) {\n",
       "                    return [cell, data, j];\n",
       "                }\n",
       "            }\n",
       "        }\n",
       "    }\n",
       "}\n",
       "\n",
       "// Register the function which deals with the matplotlib target/channel.\n",
       "// The kernel may be null if the page has been refreshed.\n",
       "if (IPython.notebook.kernel != null) {\n",
       "    IPython.notebook.kernel.comm_manager.register_target('matplotlib', mpl.mpl_figure_comm);\n",
       "}\n"
      ],
      "text/plain": [
       "<IPython.core.display.Javascript object>"
      ]
     },
     "metadata": {},
     "output_type": "display_data"
    },
    {
     "data": {
      "text/html": [
       "<img src=\"data:image/png;base64,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\" width=\"639.85\">"
      ],
      "text/plain": [
       "<IPython.core.display.HTML object>"
      ]
     },
     "metadata": {},
     "output_type": "display_data"
    }
   ],
   "source": [
    "fig1 = plt.figure(1);\n",
    "\n",
    "plt.plot(out.t, out.q);\n",
    "plt.xlabel('Time');\n",
    "plt.ylabel('Position');"
   ]
  },
  {
   "cell_type": "markdown",
   "metadata": {},
   "source": [
    "### Example 2:\n",
    "\n",
    "Increasing the acceleration time from 0 to 2 seconds, increases the duration of our acceleration (slows down the trajectory).\n",
    "\n",
    "So, to achieve starting/final via points smoothly, the trajectory moves away from the via points."
   ]
  },
  {
   "cell_type": "code",
   "execution_count": 10,
   "metadata": {},
   "outputs": [],
   "source": [
    "# control precision\n",
    "np.set_printoptions(precision=4)"
   ]
  },
  {
   "cell_type": "code",
   "execution_count": 11,
   "metadata": {},
   "outputs": [
    {
     "name": "stdout",
     "output_type": "stream",
     "text": [
      "2 0.5 [10.]\n",
      "3 0.75 [10.]\n",
      "2 0.16666666666666666 [11.6667]\n",
      "3 0.25 [12.5]\n",
      "4 0.3333333333333333 [13.3333]\n",
      "5 0.4166666666666667 [14.1667]\n",
      "6 0.5 [15.]\n",
      "7 0.5833333333333334 [15.8333]\n",
      "8 0.6666666666666666 [16.6667]\n",
      "9 0.75 [17.5]\n",
      "10 0.8333333333333334 [18.3333]\n",
      "11 0.9166666666666666 [19.1667]\n",
      "2 0.16666666666666666 [18.3333]\n",
      "3 0.25 [17.5]\n",
      "4 0.3333333333333333 [16.6667]\n",
      "5 0.4166666666666667 [15.8333]\n",
      "6 0.5 [15.]\n",
      "7 0.5833333333333334 [14.1667]\n",
      "8 0.6666666666666666 [13.3333]\n",
      "9 0.75 [12.5]\n",
      "10 0.8333333333333334 [11.6667]\n",
      "11 0.9166666666666666 [10.8333]\n"
     ]
    }
   ],
   "source": [
    "speed = 1   \n",
    "dt    = 1 \n",
    "tacc  = 2 \n",
    "\n",
    "out2 = tr.mstraj(via, dt, tacc, qdmax=speed, q0=first)"
   ]
  },
  {
   "cell_type": "code",
   "execution_count": 12,
   "metadata": {},
   "outputs": [
    {
     "name": "stdout",
     "output_type": "stream",
     "text": [
      "Via points are still the same: \n",
      " [[10 20 10]] \n",
      "\n",
      "This time, the duration of the trajectory is 8 secs longer, for a total of 28\n"
     ]
    }
   ],
   "source": [
    "print(\"Via points are still the same: \\n\", out2.via.T, '\\n')\n",
    "print(\"This time, the duration of the trajectory is {} secs longer, for a total of {}\".format(out2.t[-1]-out.t[-1],out2.t[-1]+dt))"
   ]
  },
  {
   "cell_type": "markdown",
   "metadata": {},
   "source": [
    "Let's look at the positions:"
   ]
  },
  {
   "cell_type": "code",
   "execution_count": 16,
   "metadata": {},
   "outputs": [
    {
     "name": "stdout",
     "output_type": "stream",
     "text": [
      "[[10.    ]\n",
      " [10.    ]\n",
      " [10.    ]\n",
      " [10.1562]\n",
      " [10.8333]\n",
      " [11.6667]\n",
      " [12.5   ]\n",
      " [13.3333]\n",
      " [14.1667]\n",
      " [15.    ]\n",
      " [15.8333]\n",
      " [16.6667]\n",
      " [17.5   ]\n",
      " [18.3333]\n",
      " [19.1667]\n",
      " [19.6875]\n",
      " [19.1667]\n",
      " [18.3333]\n",
      " [17.5   ]\n",
      " [16.6667]\n",
      " [15.8333]\n",
      " [15.    ]\n",
      " [14.1667]\n",
      " [13.3333]\n",
      " [12.5   ]\n",
      " [11.6667]\n",
      " [10.8333]\n",
      " [10.    ]]\n"
     ]
    }
   ],
   "source": [
    "print(out2.q)"
   ]
  },
  {
   "cell_type": "markdown",
   "metadata": {},
   "source": [
    "Let's plot it in the above figure and compare with the first plot."
   ]
  },
  {
   "cell_type": "code",
   "execution_count": 15,
   "metadata": {},
   "outputs": [],
   "source": [
    "plt.plot(out2.t, out2.q);\n",
    "plt.xlabel('Time');\n",
    "plt.ylabel('Position');"
   ]
  },
  {
   "cell_type": "markdown",
   "metadata": {},
   "source": [
    "Let's now slow things down quite significantly by increasing acceleration time duration from 2 to 8 secs."
   ]
  },
  {
   "cell_type": "code",
   "execution_count": 24,
   "metadata": {},
   "outputs": [
    {
     "name": "stdout",
     "output_type": "stream",
     "text": [
      "Via points are still the same: \n",
      " [[10 20 10]] \n",
      "\n",
      "This time, the duration of the trajectory is 24 secs longer than the previous example, for a total of 52\n"
     ]
    }
   ],
   "source": [
    "print(\"Via points are still the same: \\n\", out3.via.T, '\\n')\n",
    "print(\"This time, the duration of the trajectory is {} secs longer than the previous example, for a total of {}\".format(out3.t[-1]-out2.t[-1],out3.t[-1]+dt))"
   ]
  },
  {
   "cell_type": "markdown",
   "metadata": {},
   "source": [
    "### Example 3:\n",
    "\n",
    "Even slower. Increase acceleration duration time x3"
   ]
  },
  {
   "cell_type": "code",
   "execution_count": 25,
   "metadata": {},
   "outputs": [
    {
     "name": "stdout",
     "output_type": "stream",
     "text": [
      "5 0.3125 [10.]\n",
      "6 0.375 [10.]\n",
      "7 0.4375 [10.]\n",
      "8 0.5 [10.]\n",
      "9 0.5625 [10.]\n",
      "10 0.625 [10.]\n",
      "11 0.6875 [10.]\n",
      "12 0.75 [10.]\n",
      "5 0.2777777777777778 [12.7778]\n",
      "6 0.3333333333333333 [13.3333]\n",
      "7 0.3888888888888889 [13.8889]\n",
      "8 0.4444444444444444 [14.4444]\n",
      "9 0.5 [15.]\n",
      "10 0.5555555555555556 [15.5556]\n",
      "11 0.6111111111111112 [16.1111]\n",
      "12 0.6666666666666666 [16.6667]\n",
      "13 0.7222222222222222 [17.2222]\n",
      "14 0.7777777777777778 [17.7778]\n",
      "5 0.2777777777777778 [17.2222]\n",
      "6 0.3333333333333333 [16.6667]\n",
      "7 0.3888888888888889 [16.1111]\n",
      "8 0.4444444444444444 [15.5556]\n",
      "9 0.5 [15.]\n",
      "10 0.5555555555555556 [14.4444]\n",
      "11 0.6111111111111112 [13.8889]\n",
      "12 0.6666666666666666 [13.3333]\n",
      "13 0.7222222222222222 [12.7778]\n",
      "14 0.7777777777777778 [12.2222]\n"
     ]
    }
   ],
   "source": [
    "#Increasing acceleration time from 2 to 8 seconds\n",
    "speed = 1   \n",
    "dt    = 1 \n",
    "tacc  = 8 \n",
    "\n",
    "out3 = tr.mstraj(via, dt, tacc, qdmax=speed, q0=first)"
   ]
  },
  {
   "cell_type": "markdown",
   "metadata": {},
   "source": [
    "Let's once again plot and examine."
   ]
  },
  {
   "cell_type": "code",
   "execution_count": 21,
   "metadata": {},
   "outputs": [],
   "source": [
    "plt.plot(out3.t, out3.q);\n",
    "plt.xlabel('Time');\n",
    "plt.ylabel('Position');"
   ]
  },
  {
   "cell_type": "markdown",
   "metadata": {},
   "source": [
    "### Example 4:\n",
    "Now increase the velocity x4"
   ]
  },
  {
   "cell_type": "markdown",
   "metadata": {},
   "source": [
    "If we increase the velocity, the amount of time taken to execute the trajectory is reduced."
   ]
  },
  {
   "cell_type": "code",
   "execution_count": 22,
   "metadata": {},
   "outputs": [
    {
     "name": "stdout",
     "output_type": "stream",
     "text": [
      "5 0.3125 [10.]\n",
      "6 0.375 [10.]\n",
      "7 0.4375 [10.]\n",
      "8 0.5 [10.]\n",
      "9 0.5625 [10.]\n",
      "10 0.625 [10.]\n",
      "11 0.6875 [10.]\n",
      "12 0.75 [10.]\n",
      "5 0.3125 [13.125]\n",
      "6 0.375 [13.75]\n",
      "7 0.4375 [14.375]\n",
      "8 0.5 [15.]\n",
      "9 0.5625 [15.625]\n",
      "10 0.625 [16.25]\n",
      "11 0.6875 [16.875]\n",
      "12 0.75 [17.5]\n",
      "5 0.3125 [16.875]\n",
      "6 0.375 [16.25]\n",
      "7 0.4375 [15.625]\n",
      "8 0.5 [15.]\n",
      "9 0.5625 [14.375]\n",
      "10 0.625 [13.75]\n",
      "11 0.6875 [13.125]\n",
      "12 0.75 [12.5]\n"
     ]
    }
   ],
   "source": [
    "speed = 4   # increased velocity amount by x4\n",
    "dt    = 1 \n",
    "tacc  = 8 \n",
    "\n",
    "out4 = tr.mstraj(via, dt, tacc, qdmax=speed, q0=first)"
   ]
  },
  {
   "cell_type": "code",
   "execution_count": 28,
   "metadata": {},
   "outputs": [
    {
     "name": "stdout",
     "output_type": "stream",
     "text": [
      "Via points are still the same: \n",
      " [[10 20 10]] \n",
      "\n",
      "This time, the duration of the trajectory is -4 secs longer than the previous example, for a total of 48\n"
     ]
    }
   ],
   "source": [
    "print(\"Via points are still the same: \\n\", out4.via.T, '\\n')\n",
    "print(\"This time, the duration of the trajectory is {} secs longer than the previous example, for a total of {}\".format(out4.t[-1]-out3.t[-1], out4.t[-1]+dt))"
   ]
  },
  {
   "cell_type": "markdown",
   "metadata": {},
   "source": [
    "Let us plot for visualization"
   ]
  },
  {
   "cell_type": "code",
   "execution_count": 29,
   "metadata": {},
   "outputs": [
    {
     "data": {
      "text/plain": [
       "Text(53.17910447761194, 0.5, 'Position')"
      ]
     },
     "execution_count": 29,
     "metadata": {},
     "output_type": "execute_result"
    }
   ],
   "source": [
    "plt.plot(out4.t, out4.q)\n",
    "plt.xlabel('Time')\n",
    "plt.ylabel('Position')"
   ]
  },
  {
   "cell_type": "markdown",
   "metadata": {},
   "source": [
    "### Fix segment time duration instead of velocity"
   ]
  },
  {
   "cell_type": "markdown",
   "metadata": {},
   "source": [
    "Finally, we can set the duration of each segment instead of the velocity. \n",
    "\n",
    "To do so, we mark a 'duration' for the subsequent via point. For n points, there will be an array of dimension (n,). \n",
    "\n",
    "In our simple example from above:\n",
    "- Point 1: duration  0 secs\n",
    "- Point 2: duration 10 secs\n",
    "- Point 3: duration 20 secs"
   ]
  },
  {
   "cell_type": "code",
   "execution_count": 34,
   "metadata": {},
   "outputs": [
    {
     "name": "stdout",
     "output_type": "stream",
     "text": [
      "1 0.1 [11.]\n",
      "2 0.2 [12.]\n",
      "3 0.3 [13.]\n",
      "4 0.4 [14.]\n",
      "5 0.5 [15.]\n",
      "6 0.6 [16.]\n",
      "7 0.7 [17.]\n",
      "8 0.8 [18.]\n",
      "9 0.9 [19.]\n",
      "10 1.0 [20.]\n",
      "1 0.05 [19.5]\n",
      "2 0.1 [19.]\n",
      "3 0.15 [18.5]\n",
      "4 0.2 [18.]\n",
      "5 0.25 [17.5]\n",
      "6 0.3 [17.]\n",
      "7 0.35 [16.5]\n",
      "8 0.4 [16.]\n",
      "9 0.45 [15.5]\n",
      "10 0.5 [15.]\n",
      "11 0.55 [14.5]\n",
      "12 0.6 [14.]\n",
      "13 0.65 [13.5]\n",
      "14 0.7 [13.]\n",
      "15 0.75 [12.5]\n",
      "16 0.8 [12.]\n",
      "17 0.85 [11.5]\n",
      "18 0.9 [11.]\n",
      "19 0.95 [10.5]\n",
      "20 1.0 [10.]\n"
     ]
    }
   ],
   "source": [
    "dt   = 1 # simple dt\n",
    "tacc = 0 # no acceleration\n",
    "\n",
    "out5 = tr.mstraj(via, dt, tacc, tsegment=[0, 10, 20], q0=first)"
   ]
  },
  {
   "cell_type": "markdown",
   "metadata": {},
   "source": [
    "Time information:"
   ]
  },
  {
   "cell_type": "code",
   "execution_count": 35,
   "metadata": {},
   "outputs": [
    {
     "name": "stdout",
     "output_type": "stream",
     "text": [
      "[ 0  1  2  3  4  5  6  7  8  9 10 11 12 13 14 15\n",
      " 16 17 18 19 20 21 22 23 24 25 26 27 28 29]\n",
      "The trajectory lasts a total of  30  secs.\n"
     ]
    }
   ],
   "source": [
    "print(out5.t)\n",
    "print(\"The trajectory lasts a total of \", out5.t[-1]+dt, \" secs.\") # not inclusive of end."
   ]
  },
  {
   "cell_type": "markdown",
   "metadata": {},
   "source": [
    "Position information:"
   ]
  },
  {
   "cell_type": "code",
   "execution_count": 36,
   "metadata": {},
   "outputs": [
    {
     "name": "stdout",
     "output_type": "stream",
     "text": [
      "The path visited by the end-effector would have been: \n",
      " [11. 12. 13. 14. 15. 16. 17. 18. 19. 20. 19. 18.\n",
      " 17. 16. 15. 14. 13. 12. 11. 10.]\n",
      "The length of the trajectory is:  20\n"
     ]
    }
   ],
   "source": [
    "print('The path visited by the end-effector would have been: \\n', out.q.squeeze())\n",
    "print('The length of the trajectory is: ', len(out.q))"
   ]
  },
  {
   "cell_type": "markdown",
   "metadata": {},
   "source": [
    "Plot to visualize:"
   ]
  },
  {
   "cell_type": "code",
   "execution_count": 37,
   "metadata": {},
   "outputs": [
    {
     "data": {
      "text/plain": [
       "Text(53.17910447761194, 0.5, 'Position')"
      ]
     },
     "execution_count": 37,
     "metadata": {},
     "output_type": "execute_result"
    }
   ],
   "source": [
    "plt.plot(out5.t, out5.q);\n",
    "plt.xlabel('Time');\n",
    "plt.ylabel('Position');"
   ]
  },
  {
   "cell_type": "markdown",
   "metadata": {},
   "source": [
    "### Student Exercise\n",
    "Change the acceleration duration time while fixing the time segments. See the result."
   ]
  },
  {
   "cell_type": "code",
   "execution_count": null,
   "metadata": {},
   "outputs": [],
   "source": []
  }
 ],
 "metadata": {
  "kernelspec": {
   "display_name": "Python 3",
   "language": "python",
   "name": "python3"
  },
  "language_info": {
   "codemirror_mode": {
    "name": "ipython",
    "version": 3
   },
   "file_extension": ".py",
   "mimetype": "text/x-python",
   "name": "python",
   "nbconvert_exporter": "python",
   "pygments_lexer": "ipython3",
   "version": "3.8.5"
  }
 },
 "nbformat": 4,
 "nbformat_minor": 4
}
