{
 "cells": [
  {
   "cell_type": "code",
   "execution_count": null,
   "metadata": {},
   "outputs": [],
   "source": [
    "# Works best with jupyter-notebook"
   ]
  },
  {
   "cell_type": "code",
   "execution_count": null,
   "metadata": {},
   "outputs": [],
   "source": [
    "%matplotlib notebook \n",
    "#%matplotlib widget \n",
    "# https://ipython.readthedocs.io/en/stable/interactive/magics.html\n",
    "import numpy as np\n",
    "\n",
    "from spatialmath.base import *\n",
    "\n",
    "from roboticstoolbox import *\n",
    "import roboticstoolbox.tools.trajectory as tr\n",
    "\n",
    "import matplotlib.pyplot as plt\n",
    "import matplotlib; matplotlib.use(\"TkAgg\") \n",
    "np.set_printoptions(linewidth=100, formatter={'float': lambda x: f\"{x:8.4g}\" if abs(x) > 1e-10 else f\"{0:8.4g}\"})"
   ]
  },
  {
   "cell_type": "markdown",
   "metadata": {},
   "source": [
    "# Lecture 4.6 - Rotational Interpolation"
   ]
  },
  {
   "cell_type": "markdown",
   "metadata": {},
   "source": [
    "In our previous section, we learned to interpolate positions. In this section, we turn our attention to interpolating angles. We can't interpolate rotational matrices directly, but we can interpolate vectors of angles like Euler or RPY formats and quaternions as well as we'll see. "
   ]
  },
  {
   "cell_type": "markdown",
   "metadata": {},
   "source": [
    "### Roll-Pitch-Yaw Interpolation"
   ]
  },
  {
   "cell_type": "markdown",
   "metadata": {},
   "source": [
    "Using the toolbox function **jtraj()**, RPY angles can be interpolated. \n",
    "\n",
    "jtraj() returns: \n",
    "trajectory of coordinates and optionally velocity and acceleration\n",
    "\n",
    "For example, we can interpolate between (0, 0, 0) & (-π/2, π/2, π/4) radians over 100 time steps:"
   ]
  },
  {
   "cell_type": "code",
   "execution_count": null,
   "metadata": {
    "scrolled": true
   },
   "outputs": [],
   "source": [
    "q0=[0, 0, 0]\n",
    "qf=[-np.pi/2, np.pi/2, np.pi/4]\n",
    "\n",
    "out = tr.jtraj(q0, qf, tv=100)\n",
    "#print(out.q)"
   ]
  },
  {
   "cell_type": "markdown",
   "metadata": {},
   "source": [
    "Graph the plot of the interpoloate angles to visualize the smoothness and synchronizity."
   ]
  },
  {
   "cell_type": "code",
   "execution_count": null,
   "metadata": {},
   "outputs": [],
   "source": [
    "fig1 = plt.figure(1);\n",
    "\n",
    "plt.xlabel('Time');\n",
    "plt.ylabel('RPY Angles');\n",
    "plt.plot(out.q);"
   ]
  },
  {
   "cell_type": "markdown",
   "metadata": {},
   "source": [
    "### Conversion to Rotation matrices\n",
    "\n",
    "Sometimes obtaining the rotation matrix equivalent of an RPY angle may be desirable for interpretability or other mathematical computations. We can easily convert beteween RPY and rotation matrices using the *rpy2r* method in the spatialmath toolbox. We can also convert to homogeneous transforms using rpy2tr...."
   ]
  },
  {
   "cell_type": "code",
   "execution_count": null,
   "metadata": {},
   "outputs": [],
   "source": [
    "#The first rotation matrix can be viewed by:\n",
    "qr1 = out.q[0]\n",
    "print(\"The first angle is: \", qr1, \"\\n\")"
   ]
  },
  {
   "cell_type": "markdown",
   "metadata": {},
   "source": [
    "Convert starting angle:"
   ]
  },
  {
   "cell_type": "code",
   "execution_count": null,
   "metadata": {},
   "outputs": [],
   "source": [
    "R1 = rpy2r(qr1);\n",
    "print(R1)"
   ]
  },
  {
   "cell_type": "markdown",
   "metadata": {},
   "source": [
    "Convert final angle:"
   ]
  },
  {
   "cell_type": "code",
   "execution_count": null,
   "metadata": {},
   "outputs": [],
   "source": [
    "#The last rotation matrix can be viewed by:\n",
    "qr10 = out.q[-1]\n",
    "print(\"The last angle is: \", qr10, \"\\n\")\n",
    "\n",
    "# We can alternatively use each col of qr10\n",
    "R10 = rpy2r(qr10[0],qr10[1],qr10[2]);\n",
    "print(R10)\n"
   ]
  },
  {
   "cell_type": "markdown",
   "metadata": {},
   "source": [
    "## Tranimate\n",
    "The RPY sequence can be animated by passing the rotation matrices to the toolbox function tranimate():\n",
    "\n",
    "### Student exercise: \n",
    "1. Work in pairs\n",
    "2. Solve this tranimate problem (need to work outside jupyter AND you have 15 mins to work on it)\n",
    "3. Volunteer to share your solution with the class via shared screen."
   ]
  },
  {
   "cell_type": "code",
   "execution_count": null,
   "metadata": {},
   "outputs": [],
   "source": [
    "import matplotlib; matplotlib.use(\"TkAgg\") #THIS IS THE MAGIC\n",
    "import matplotlib.pyplot as plt\n",
    "\n",
    "# TAke the first and last configurations\n",
    "qr1 = out.q[0]\n",
    "qrf = out.q[-1]\n",
    "\n",
    "# Get homogenous transform representations\n",
    "R1 = rpy2tr(qr1);\n",
    "Rf = rpy2tr(qrf);"
   ]
  },
  {
   "cell_type": "code",
   "execution_count": null,
   "metadata": {},
   "outputs": [],
   "source": [
    "# Pass final Rf to tranimate\n",
    "type(Rf)\n",
    "tranimate(Rf, frame='A', arrow=False, nframes=200, dims=[0,3]);"
   ]
  },
  {
   "cell_type": "markdown",
   "metadata": {},
   "source": [
    "## Quaternion Interpolation"
   ]
  },
  {
   "cell_type": "markdown",
   "metadata": {},
   "source": [
    "Interpolation is performed on a great circle on a 4D hypersphere. This is a rotation about a single fixed axis in space which yields the straightest and shortest path between two points. See class resource video for more.\n",
    "\n",
    "Furthermore, quaternion interpoloation, is represented by a rather complex mathematical equation otherwise known as slerp. Slerp is a function of a scaling parameter s that varies linearly from 0 to 1. We can vary s values to achieve starting and final configurations.\n",
    "\n",
    "To learn more about slerp in the spatialmath toolbox see:\n",
    "https://petercorke.github.io/spatialmath-python/func_quat.html?highlight=slerp#spatialmath.base.quaternions.slerp\n",
    "\n",
    "Note:\n",
    "For large rotations the path may be the long way around the circle, the option 'shortest' ensures always the shortest path."
   ]
  },
  {
   "cell_type": "code",
   "execution_count": null,
   "metadata": {},
   "outputs": [],
   "source": [
    "from math import sqrt\n",
    "\n",
    "q0 = [1/sqrt(2), 1/sqrt(2), 0, 0]  # 90deg rotation about x-axis\n",
    "q1 = [1/sqrt(2), 0, 1/sqrt(2), 0]  # 90deg rotation about y-axis"
   ]
  },
  {
   "cell_type": "markdown",
   "metadata": {},
   "source": [
    "We can also use the utility function *qprint()* from the spatialmath.base.quaternions class to easily obtain a quaternion pose using slerp and s."
   ]
  },
  {
   "cell_type": "code",
   "execution_count": null,
   "metadata": {},
   "outputs": [],
   "source": [
    "#help(qprint)"
   ]
  },
  {
   "cell_type": "code",
   "execution_count": null,
   "metadata": {},
   "outputs": [],
   "source": [
    "qprint(slerp(q0, q1, 0))           # this is q0\n",
    "qprint(slerp(q0, q1, 1))           # this is q1\n",
    "qprint(slerp(q0, q1, 0.5))         # this is in \"half way\" between"
   ]
  },
  {
   "cell_type": "code",
   "execution_count": null,
   "metadata": {},
   "outputs": [],
   "source": []
  }
 ],
 "metadata": {
  "kernelspec": {
   "display_name": "Python 3",
   "language": "python",
   "name": "python3"
  },
  "language_info": {
   "codemirror_mode": {
    "name": "ipython",
    "version": 3
   },
   "file_extension": ".py",
   "mimetype": "text/x-python",
   "name": "python",
   "nbconvert_exporter": "python",
   "pygments_lexer": "ipython3",
   "version": "3.8.5"
  }
 },
 "nbformat": 4,
 "nbformat_minor": 4
}
