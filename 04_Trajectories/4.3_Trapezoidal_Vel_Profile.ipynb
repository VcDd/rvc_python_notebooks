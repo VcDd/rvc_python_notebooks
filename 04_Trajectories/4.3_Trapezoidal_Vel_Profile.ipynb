{
 "cells": [
  {
   "cell_type": "code",
   "execution_count": null,
   "metadata": {},
   "outputs": [],
   "source": [
    "# Works best with jupyter-notebook"
   ]
  },
  {
   "cell_type": "code",
   "execution_count": null,
   "metadata": {},
   "outputs": [],
   "source": [
    "%matplotlib notebook \n",
    "#%matplotlib widget \n",
    "# https://ipython.readthedocs.io/en/stable/interactive/magics.html\n",
    "import numpy as np\n",
    "\n",
    "#from spatialmath import *\n",
    "#from spatialmath.base import *\n",
    "import roboticstoolbox.tools.trajectory as tr\n",
    "\n",
    "import matplotlib.pyplot as plt\n",
    "np.set_printoptions(linewidth=100, formatter={'float': lambda x: f\"{x:8.4g}\" if abs(x) > 1e-10 else f\"{0:8.4g}\"})"
   ]
  },
  {
   "cell_type": "markdown",
   "metadata": {},
   "source": [
    "# Lecture 4.3 - 1D Trapezoidal Trajectories"
   ]
  },
  {
   "cell_type": "markdown",
   "metadata": {},
   "source": [
    "If we want to use our motor output power more efficiently, it is best to maintain a top speed profile for longer periods of time. \n",
    "\n",
    "Trapezoidal profiles are ideal for this. In the roboticstoolbox under the tools submodule and trajectory class, we can leverage the \"linear segment with parabolic blend\" method lspb().\n",
    "\n",
    "lspb as with tpoly takes an initial and final positions and a number of time steps. lspoly also returns a namedTuple with names: x, y, yd, ydd similar to tpoly."
   ]
  },
  {
   "cell_type": "code",
   "execution_count": null,
   "metadata": {},
   "outputs": [],
   "source": [
    "# Create a trapezoidal profile starting at 0 and ending in 1.\n",
    "data = tr.lspb(0, 1, 50)\n",
    "\n",
    "# Collect outputs\n",
    "t  = data.x\n",
    "s  = data.y\n",
    "sd = data.yd\n",
    "sdd=data.ydd"
   ]
  },
  {
   "cell_type": "markdown",
   "metadata": {},
   "source": [
    "We can plot as we did with tpoly using subplots. This time you will see the position adopt an lspb, a trapezoidal velocity profile, and a discontinuous acceleration profile."
   ]
  },
  {
   "cell_type": "code",
   "execution_count": null,
   "metadata": {},
   "outputs": [],
   "source": [
    "# Plot handle\n",
    "fig1 = plt.figure(1);\n",
    "\n",
    "# Positions\n",
    "sfig1 = fig1.add_subplot(3,1,1);\n",
    "plt.plot(t,s);\n",
    "plt.ylabel('Position');\n",
    "\n",
    "# Velocities\n",
    "sfig2 = fig1.add_subplot(3,1,2);\n",
    "plt.plot(t,sd);\n",
    "plt.ylabel('Velocity');\n",
    "\n",
    "# Accelerations\n",
    "sfig3 = fig1.add_subplot(3,1,3);\n",
    "plt.plot(t,sdd);\n",
    "plt.xlabel('Time Steps');\n",
    "plt.ylabel('Accelereation');"
   ]
  },
  {
   "cell_type": "markdown",
   "metadata": {},
   "source": [
    "As with tpoly, we can also change our desired starting and final position values."
   ]
  },
  {
   "cell_type": "code",
   "execution_count": null,
   "metadata": {},
   "outputs": [],
   "source": [
    "data = tr.lspb(0, -1, 50)\n",
    "t  = data.x\n",
    "s  = data.y\n",
    "sd = data.yd\n",
    "sdd=data.ydd"
   ]
  },
  {
   "cell_type": "markdown",
   "metadata": {},
   "source": [
    "And plot as before. "
   ]
  },
  {
   "cell_type": "code",
   "execution_count": null,
   "metadata": {},
   "outputs": [],
   "source": [
    "# Plot handle\n",
    "fig2 = plt.figure(2);\n",
    "\n",
    "# Positions\n",
    "sfig1 = fig2.add_subplot(3,1,1);\n",
    "plt.plot(t,s);\n",
    "plt.ylabel('Position');\n",
    "\n",
    "# Velocities\n",
    "sfig2 = fig2.add_subplot(3,1,2);\n",
    "plt.plot(t,sd);\n",
    "plt.ylabel('Velocity');\n",
    "\n",
    "# Accelerations\n",
    "sfig3 = fig2.add_subplot(3,1,3);\n",
    "plt.plot(t,sdd);\n",
    "plt.xlabel('Time Steps');\n",
    "plt.ylabel('Accelereation');"
   ]
  },
  {
   "cell_type": "markdown",
   "metadata": {},
   "source": [
    "Notice that with lspb we can set the **top desired velocity** as part of the linear segment.\n",
    "\n",
    "This is set explicitly by passing an additional argument.\n",
    "Notice the in the first example, our max attained velocity was 0.03. \n",
    "\n",
    "Let's decrease is slightly to 0.025.\n",
    "What do you explect will happen?\n"
   ]
  },
  {
   "cell_type": "code",
   "execution_count": null,
   "metadata": {},
   "outputs": [],
   "source": [
    "data=tr.lspb(0, 1, 50, 0.025)\n",
    "\n",
    "t  = data.x\n",
    "s  = data.y\n",
    "sd = data.yd\n",
    "sdd=data.ydd"
   ]
  },
  {
   "cell_type": "code",
   "execution_count": null,
   "metadata": {},
   "outputs": [],
   "source": [
    "# Plot handle\n",
    "fig3 = plt.figure(3);\n",
    "\n",
    "# Positions\n",
    "sfig1 = fig3.add_subplot(3,1,1);\n",
    "plt.plot(t,s);\n",
    "plt.ylabel('Position');\n",
    "\n",
    "# Velocities\n",
    "sfig2 = fig3.add_subplot(3,1,2);\n",
    "plt.plot(t,sd);\n",
    "plt.ylabel('Velocity');\n",
    "\n",
    "# Accelerations\n",
    "sfig3 = fig3.add_subplot(3,1,3);\n",
    "plt.plot(t,sdd);\n",
    "plt.xlabel('Time Steps');\n",
    "plt.ylabel('Accelereation');"
   ]
  },
  {
   "cell_type": "markdown",
   "metadata": {},
   "source": [
    "On the other hand, we can also increase the top velocity. Let's try 0.035:"
   ]
  },
  {
   "cell_type": "code",
   "execution_count": null,
   "metadata": {},
   "outputs": [],
   "source": [
    "data=tr.lspb(0, 1, 50, 0.035)\n",
    "\n",
    "t  = data.x\n",
    "s  = data.y\n",
    "sd = data.yd\n",
    "sdd=data.ydd"
   ]
  },
  {
   "cell_type": "code",
   "execution_count": null,
   "metadata": {},
   "outputs": [],
   "source": [
    "# Plot handle\n",
    "fig4 = plt.figure(4);\n",
    "\n",
    "# Positions\n",
    "sfig1 = fig4.add_subplot(3,1,1);\n",
    "plt.plot(t,s);\n",
    "plt.ylabel('Position');\n",
    "\n",
    "# Velocities\n",
    "sfig2 = fig4.add_subplot(3,1,2);\n",
    "plt.plot(t,sd);\n",
    "plt.ylabel('Velocity');\n",
    "\n",
    "# Accelerations\n",
    "sfig3 = fig4.add_subplot(3,1,3);\n",
    "plt.plot(t,sdd);\n",
    "plt.xlabel('Time Steps');\n",
    "plt.ylabel('Accelereation');"
   ]
  },
  {
   "cell_type": "markdown",
   "metadata": {},
   "source": [
    "What if we want to continue to go quite a bit slower and set a top velocity equal to 0.02?"
   ]
  },
  {
   "cell_type": "code",
   "execution_count": null,
   "metadata": {},
   "outputs": [],
   "source": [
    "data=tr.lspb(0, 1, 50, 0.02)"
   ]
  },
  {
   "cell_type": "markdown",
   "metadata": {},
   "source": [
    "An error is returned if the specified velocity is **too small.**\n",
    "\n",
    "This is because it is not possible to reach the final position and at the same time maintain this low velocity trapezoidal profile. There is no solution. "
   ]
  },
  {
   "cell_type": "code",
   "execution_count": null,
   "metadata": {},
   "outputs": [],
   "source": []
  }
 ],
 "metadata": {
  "kernelspec": {
   "display_name": "Python 3",
   "language": "python",
   "name": "python3"
  },
  "language_info": {
   "codemirror_mode": {
    "name": "ipython",
    "version": 3
   },
   "file_extension": ".py",
   "mimetype": "text/x-python",
   "name": "python",
   "nbconvert_exporter": "python",
   "pygments_lexer": "ipython3",
   "version": "3.8.5"
  }
 },
 "nbformat": 4,
 "nbformat_minor": 4
}
