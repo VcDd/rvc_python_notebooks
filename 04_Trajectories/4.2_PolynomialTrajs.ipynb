{
 "cells": [
  {
   "cell_type": "code",
   "execution_count": null,
   "metadata": {},
   "outputs": [],
   "source": [
    "# Works best with jupyter-notebook"
   ]
  },
  {
   "cell_type": "code",
   "execution_count": null,
   "metadata": {},
   "outputs": [],
   "source": [
    "%matplotlib notebook \n",
    "#%matplotlib widget \n",
    "# https://ipython.readthedocs.io/en/stable/interactive/magics.html\n",
    "from collections import namedtuple\n",
    "\n",
    "from spatialmath import *\n",
    "from spatialmath.base import *\n",
    "\n",
    "#from roboticstoolbox import *\n",
    "#import roboticstoolbox.tools.trajectory as tr\n",
    "\n",
    "import matplotlib.pyplot as plt\n",
    "\n",
    "np.set_printoptions(linewidth=100, formatter={'float': lambda x: f\"{x:8.4g}\" if abs(x) > 1e-10 else f\"{0:8.4g}\"})"
   ]
  },
  {
   "cell_type": "markdown",
   "metadata": {},
   "source": [
    "# Lecture 4.2 Polynomial Trajectories"
   ]
  },
  {
   "cell_type": "markdown",
   "metadata": {},
   "source": [
    "Polynomial (smooth) trajectories can be created using the toolbox function tpoly().\n",
    "\n",
    "\n",
    "tpoly () needs an initial and final position and a number of timesteps to interpolate between the starting and final position. One can optionally also pass desired initial and final velocities. \n",
    "\n",
    "tpoly returns the position, velocity, and acceleration of the trajectory via a named tuple. \n",
    "Named tuples assign names to different tuples stored within. \n",
    "\n",
    "tpoly uses names:\n",
    "- x: represents time-steps\n",
    "- y: represents position\n",
    "- yd: represents velocity\n",
    "- ydd: represents acceleration"
   ]
  },
  {
   "cell_type": "code",
   "execution_count": null,
   "metadata": {},
   "outputs": [],
   "source": [
    "# help(tr.tpoly)"
   ]
  },
  {
   "cell_type": "code",
   "execution_count": null,
   "metadata": {},
   "outputs": [],
   "source": [
    "traj = tr.tpoly(0, 1, 50)\n",
    "print(type(traj),'\\n')\n",
    "\n",
    "print(traj)"
   ]
  },
  {
   "cell_type": "markdown",
   "metadata": {},
   "source": [
    "We can easily extract a desired vector by using the dot operator on the namedTuple."
   ]
  },
  {
   "cell_type": "code",
   "execution_count": null,
   "metadata": {},
   "outputs": [],
   "source": [
    "t = traj.x\n",
    "s = traj.y\n",
    "sd = traj.yd\n",
    "sdd = traj.ydd"
   ]
  },
  {
   "cell_type": "markdown",
   "metadata": {},
   "source": [
    "Let's print each individual piece of data to examine it."
   ]
  },
  {
   "cell_type": "code",
   "execution_count": null,
   "metadata": {},
   "outputs": [],
   "source": [
    "print('Number of time steps is: \\n', t)"
   ]
  },
  {
   "cell_type": "markdown",
   "metadata": {},
   "source": [
    "Now print the smooth position:"
   ]
  },
  {
   "cell_type": "code",
   "execution_count": null,
   "metadata": {},
   "outputs": [],
   "source": [
    "print('Smooth position information is: \\n', s)"
   ]
  },
  {
   "cell_type": "markdown",
   "metadata": {},
   "source": [
    "Now print the smooth velocity:"
   ]
  },
  {
   "cell_type": "code",
   "execution_count": null,
   "metadata": {},
   "outputs": [],
   "source": [
    "print('Smooth velocity information is: \\n', sd)"
   ]
  },
  {
   "cell_type": "markdown",
   "metadata": {},
   "source": [
    "Now print the smooth acceleration information:"
   ]
  },
  {
   "cell_type": "code",
   "execution_count": null,
   "metadata": {},
   "outputs": [],
   "source": [
    "print('Smooth acceleration information is: \\n', sdd)"
   ]
  },
  {
   "cell_type": "markdown",
   "metadata": {},
   "source": [
    "At this point, it would be interesting to plot the position, velocity, and acceleration information together to better appreciate this trajectory.\n",
    "\n",
    "Matplotlib has a method add_subplot to generate different subplots. See below."
   ]
  },
  {
   "cell_type": "code",
   "execution_count": null,
   "metadata": {},
   "outputs": [],
   "source": [
    "# Plot the profile\n",
    "fig1=plt.figure(1);\n",
    "\n",
    "# Positions\n",
    "sfig1 = fig1.add_subplot(3,1,1); # subplot handle\n",
    "plt.plot(t,s);\n",
    "\n",
    "# Velocities\n",
    "sfig2 = fig1.add_subplot(3,1,2);\n",
    "plt.plot(t,sd);\n",
    "\n",
    "# Accelereations\n",
    "sfig3 = fig1.add_subplot(3,1,3);\n",
    "plt.plot(t,sdd);"
   ]
  },
  {
   "cell_type": "markdown",
   "metadata": {},
   "source": [
    "Let's try different starting and ending positions. This time start with a desired position at -1 and an ending position at 0"
   ]
  },
  {
   "cell_type": "code",
   "execution_count": null,
   "metadata": {},
   "outputs": [],
   "source": [
    "data=tr.tpoly(0, -1, 50)\n",
    "t=data.x\n",
    "s=data.y\n",
    "sd=data.yd\n",
    "sdd=data.ydd"
   ]
  },
  {
   "cell_type": "markdown",
   "metadata": {},
   "source": [
    "Plot one more time"
   ]
  },
  {
   "cell_type": "code",
   "execution_count": null,
   "metadata": {},
   "outputs": [],
   "source": [
    "# Figure handle\n",
    "fig2 = plt.figure(2);\n",
    "\n",
    "# Positions\n",
    "sfig1 = fig2.add_subplot(3,1,1);\n",
    "plt.plot(t,s);\n",
    "\n",
    "# Velocities\n",
    "sfig2 = fig2.add_subplot(3,1,2);\n",
    "plt.plot(t,sd);\n",
    "\n",
    "# Acceleratiosn\n",
    "sfig3 = fig2.add_subplot(3,1,3);\n",
    "plt.plot(t,sdd);"
   ]
  },
  {
   "cell_type": "markdown",
   "metadata": {},
   "source": [
    "Finally, we may desired to explicitly specify starting and final velocities. Imagine a robot moving along with a conveyor belt to pick/assemble things... you need to start with a desired starting velocity.\n",
    "\n",
    "\n",
    "We will use start and ending velocity values of 0.5 and 0 respectively. We can pass these as floats later in the argument list:"
   ]
  },
  {
   "cell_type": "code",
   "execution_count": null,
   "metadata": {},
   "outputs": [],
   "source": [
    "#The initial velocity and final velocity can also be \n",
    "\n",
    "data = tr.tpoly(0, 1, 50, 0.5, 1)\n",
    "t   = data.x\n",
    "s   = data.y\n",
    "sd  = data.yd\n",
    "sdd = data.ydd"
   ]
  },
  {
   "cell_type": "markdown",
   "metadata": {},
   "source": [
    "Plot once again. This time notice the changes in the position profile and its gradients."
   ]
  },
  {
   "cell_type": "code",
   "execution_count": null,
   "metadata": {},
   "outputs": [],
   "source": [
    "# Plot handle\n",
    "fig3 = plt.figure(3);\n",
    "\n",
    "# Position\n",
    "sfig1 = fig3.add_subplot(3,1,1);\n",
    "plt.plot(t,s);\n",
    "\n",
    "# Velocity\n",
    "sfig2 = fig3.add_subplot(3,1,2);\n",
    "plt.plot(t,sd);\n",
    "\n",
    "# Acceleration\n",
    "sfig3 = fig3.add_subplot(3,1,3);\n",
    "plt.plot(t,sdd);"
   ]
  },
  {
   "cell_type": "code",
   "execution_count": null,
   "metadata": {},
   "outputs": [],
   "source": []
  }
 ],
 "metadata": {
  "kernelspec": {
   "display_name": "Python 3",
   "language": "python",
   "name": "python3"
  },
  "language_info": {
   "codemirror_mode": {
    "name": "ipython",
    "version": 3
   },
   "file_extension": ".py",
   "mimetype": "text/x-python",
   "name": "python",
   "nbconvert_exporter": "python",
   "pygments_lexer": "ipython3",
   "version": "3.8.5"
  }
 },
 "nbformat": 4,
 "nbformat_minor": 4
}
