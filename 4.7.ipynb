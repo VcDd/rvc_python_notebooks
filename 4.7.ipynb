{
 "cells": [
  {
   "cell_type": "code",
   "execution_count": 1,
   "metadata": {},
   "outputs": [],
   "source": [
    "# Works best with jupyter-notebook"
   ]
  },
  {
   "cell_type": "code",
   "execution_count": 2,
   "metadata": {},
   "outputs": [],
   "source": [
    "%matplotlib notebook \n",
    "#%matplotlib widget \n",
    "# https://ipython.readthedocs.io/en/stable/interactive/magics.html\n",
    "import numpy as np\n",
    "import math\n",
    "import spatialmath.base as sm\n",
    "\n",
    "from spatialmath import * \n",
    "from collections import namedtuple\n",
    "from roboticstoolbox import *\n",
    "import roboticstoolbox.tools.trajectory as tr\n",
    "import matplotlib.pyplot as plt\n",
    "\n",
    "np.set_printoptions(linewidth=100, formatter={'float': lambda x: f\"{x:8.4g}\" if abs(x) > 1e-10 else f\"{0:8.4g}\"})"
   ]
  },
  {
   "cell_type": "markdown",
   "metadata": {},
   "source": [
    "# Lecture 4.7 - Cartesian Interpolation"
   ]
  },
  {
   "cell_type": "code",
   "execution_count": 9,
   "metadata": {
    "scrolled": true
   },
   "outputs": [
    {
     "data": {
      "text/plain": [
       "SE3:  \u001b[38;5;1m 1          \u001b[0m\u001b[38;5;1m 0          \u001b[0m\u001b[38;5;1m 0          \u001b[0m\u001b[38;5;4m 0          \u001b[0m  \u001b[0m\n",
       "      \u001b[38;5;1m 0          \u001b[0m\u001b[38;5;1m 1          \u001b[0m\u001b[38;5;1m 0          \u001b[0m\u001b[38;5;4m 0          \u001b[0m  \u001b[0m\n",
       "      \u001b[38;5;1m 0          \u001b[0m\u001b[38;5;1m 0          \u001b[0m\u001b[38;5;1m 1          \u001b[0m\u001b[38;5;4m 0          \u001b[0m  \u001b[0m\n",
       "      \u001b[38;5;244m 0          \u001b[0m\u001b[38;5;244m 0          \u001b[0m\u001b[38;5;244m 0          \u001b[0m\u001b[38;5;244m 1          \u001b[0m  \u001b[0m\n",
       "    "
      ]
     },
     "execution_count": 9,
     "metadata": {},
     "output_type": "execute_result"
    }
   ],
   "source": [
    "#Create an initial pose of a “null” pose\n",
    "T_0=SE3()\n",
    "T_0"
   ]
  },
  {
   "cell_type": "code",
   "execution_count": 12,
   "metadata": {},
   "outputs": [
    {
     "data": {
      "text/plain": [
       "array([[  0.1184,  -0.7445,   0.6571,        1],\n",
       "       [  0.6866,   0.5394,   0.4875,        2],\n",
       "       [ -0.7174,   0.3934,    0.575,        3],\n",
       "       [       0,        0,        0,        1]])"
      ]
     },
     "execution_count": 12,
     "metadata": {},
     "output_type": "execute_result"
    }
   ],
   "source": [
    "#Create a final pose with finite orientation and translational components\n",
    "#T_1 = sm.transl([1, 2, 3]) @ \n",
    "T1 = sm.rpy2tr([0.6, 0.8, 1.4])\n",
    "T_1"
   ]
  },
  {
   "cell_type": "code",
   "execution_count": 14,
   "metadata": {},
   "outputs": [],
   "source": [
    "#Create a smooth trajectory between the two poses using the toolbox function ctraj()\n",
    "#and passing the input arguments of the initial pose, the final pose and the number of time steps.\n",
    "#The function returns a sequence of homogeneous transformation matrices:\n",
    "T=tr.ctraj(SE3.Tx(0.17), T_1, 50)\n",
    "tg = ctraj(SE3.Rand(), SE3.Rand(), 20)"
   ]
  }
 ],
 "metadata": {
  "kernelspec": {
   "display_name": "Python 3",
   "language": "python",
   "name": "python3"
  },
  "language_info": {
   "codemirror_mode": {
    "name": "ipython",
    "version": 3
   },
   "file_extension": ".py",
   "mimetype": "text/x-python",
   "name": "python",
   "nbconvert_exporter": "python",
   "pygments_lexer": "ipython3",
   "version": "3.8.5"
  }
 },
 "nbformat": 4,
 "nbformat_minor": 4
}
