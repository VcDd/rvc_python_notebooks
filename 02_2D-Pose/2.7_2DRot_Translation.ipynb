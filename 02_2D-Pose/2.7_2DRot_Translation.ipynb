{
 "cells": [
  {
   "cell_type": "markdown",
   "metadata": {},
   "source": [
    "# RVC 1, Ch2.1"
   ]
  },
  {
   "cell_type": "code",
   "execution_count": null,
   "metadata": {},
   "outputs": [],
   "source": [
    "# Works best with jupyter-notebook"
   ]
  },
  {
   "cell_type": "code",
   "execution_count": null,
   "metadata": {},
   "outputs": [],
   "source": [
    "%matplotlib notebook \n",
    "# https://ipython.readthedocs.io/en/stable/interactive/magics.html\n",
    "import numpy as np\n",
    "\n",
    "from spatialmath import *\n",
    "from spatialmath.base import *\n",
    "from roboticstoolbox import *\n",
    "import matplotlib.pyplot as plt\n",
    "\n",
    "#!pip3 install sympy testresources pgraph\n",
    "\n",
    "np.set_printoptions(linewidth=100, formatter={'float': lambda x: f\"{x:8.4g}\" if abs(x) > 1e-10 else f\"{0:8.4g}\"})"
   ]
  },
  {
   "cell_type": "markdown",
   "metadata": {},
   "source": [
    "---\n",
    "## Lec 01.7 (Ch 2.1) 2D Rotation and Translation"
   ]
  },
  {
   "cell_type": "markdown",
   "metadata": {},
   "source": [
    "Create a homogenous transformation representation of a pure translation working in 2D.\n"
   ]
  },
  {
   "cell_type": "code",
   "execution_count": null,
   "metadata": {},
   "outputs": [],
   "source": [
    "# https://petercorke.github.io/spatialmath-python/func_2d.html?highlight=transl2#spatialmath.base.transforms2d.transl2\n",
    "T1 = transl2(1, 2)\n",
    "\n",
    "print(type(T1))\n",
    "print(T1)"
   ]
  },
  {
   "cell_type": "markdown",
   "metadata": {},
   "source": [
    "Create a homogenous transformation representation a pure rotation"
   ]
  },
  {
   "cell_type": "code",
   "execution_count": null,
   "metadata": {},
   "outputs": [],
   "source": [
    "R1 = rot2(0.5236)\n",
    "print(type(R))\n",
    "print(R1,'\\n')\n",
    "\n",
    "R1 = rot2(30,'deg')\n",
    "print(R1)"
   ]
  },
  {
   "cell_type": "markdown",
   "metadata": {},
   "source": [
    "Rotation + Translation:\n",
    "\n",
    "We can easily generate a 2D homogenous tranformation matrix that includes a rotation and translation by multiplying the individual compoents. The @operator is particularly convenient:"
   ]
  },
  {
   "cell_type": "code",
   "execution_count": null,
   "metadata": {},
   "outputs": [],
   "source": [
    "T1 = transl2(1, 2)@trot2(30, 'deg')\n",
    "\n",
    "print(type(T1))\n",
    "print(T1)"
   ]
  },
  {
   "cell_type": "markdown",
   "metadata": {},
   "source": [
    "Special Eucliden SE(2) command can combine the translation and rotation with a single command.\n",
    "\n",
    "But notice that in this case, the output object is not of type numpy.ndarray, but SE2.\n",
    "\n",
    "SE2 objects share same methods as lists... but if you want to extract elements, you need to convert it to a numpy.ndarray object first using the .A attribute."
   ]
  },
  {
   "cell_type": "code",
   "execution_count": null,
   "metadata": {},
   "outputs": [],
   "source": [
    "T1 = SE2(1,2,30, unit='deg') # yields an SE object\n",
    "print(type(T1))\n",
    "print(T1)\n",
    "\n",
    "T1 = SE2(1,2,0.5236)\n",
    "print(T1)"
   ]
  },
  {
   "cell_type": "markdown",
   "metadata": {},
   "source": [
    "Try to extract the [1,1] element of the T1 ht. Remember to use square brackets not parenthesis for element extraction operations."
   ]
  },
  {
   "cell_type": "code",
   "execution_count": null,
   "metadata": {},
   "outputs": [],
   "source": [
    "T1[1,1] # does not work as an SE2 object"
   ]
  },
  {
   "cell_type": "code",
   "execution_count": null,
   "metadata": {},
   "outputs": [],
   "source": [
    "# Extract numpy.ndarray version first.\n",
    "T1.A[1,1]"
   ]
  },
  {
   "cell_type": "markdown",
   "metadata": {},
   "source": [
    "### Plotting\n",
    "\n",
    "Plotting will be done via matplotlib, there are several other packages that you could use in python to plot (i.e. plotly).\n",
    "\n",
    "You can explore different tutorials online on matplotlib to understand the package better. \n",
    "\n",
    "You will want to understand differences between fixures and axes and different ways to represent data and labels. Learning about backends is also important to modify the interfaces. \n",
    "\n",
    "https://matplotlib.org/3.1.1/tutorials/index.html\n",
    "https://www.tutorialspoint.com/matplotlib/index.htm\n"
   ]
  },
  {
   "cell_type": "code",
   "execution_count": null,
   "metadata": {},
   "outputs": [],
   "source": [
    "# Setup plotting capabilities for Jupyterlab\n",
    "# Run as shell command with !\n",
    "#!pip3 install ipympl"
   ]
  },
  {
   "cell_type": "markdown",
   "metadata": {},
   "source": [
    "Getting ready to plot. "
   ]
  },
  {
   "cell_type": "code",
   "execution_count": null,
   "metadata": {},
   "outputs": [],
   "source": [
    "# Create a figure\n",
    "fig = plt.figure() # Save the figure handle in object fig"
   ]
  },
  {
   "cell_type": "code",
   "execution_count": null,
   "metadata": {},
   "outputs": [],
   "source": [
    "# Manipulate the axes of fig above\n",
    "plt.axes( xlim = (-1,5),\n",
    "          ylim = (-1,6) ); # Change the dimensions of selected axes"
   ]
  },
  {
   "cell_type": "code",
   "execution_count": null,
   "metadata": {},
   "outputs": [],
   "source": [
    "# Create new coordinates\n",
    "T1 = transl2(1, 2)"
   ]
  },
  {
   "cell_type": "markdown",
   "metadata": {},
   "source": [
    "Plot the homogenous transform with trplot2. In fact, trplot 2 will create a figure by itself, we do not need to explicitly call it. If a figure is already open, trplot will use it."
   ]
  },
  {
   "cell_type": "code",
   "execution_count": null,
   "metadata": {},
   "outputs": [],
   "source": [
    "# https://petercorke.github.io/spatialmath-python/func_2d.html?highlight=trplot#spatialmath.base.transforms2d.trplot2\n",
    "trplot2(T1, frame='1', color='blue', labels=('x','y'),block=False); # assign color and labels"
   ]
  },
  {
   "cell_type": "markdown",
   "metadata": {},
   "source": [
    "Additional trplots, will use the same figure, unless one explicitly creates/selects a different figure."
   ]
  },
  {
   "cell_type": "code",
   "execution_count": null,
   "metadata": {},
   "outputs": [],
   "source": [
    "T2 = transl2(2, 1)\n",
    "trplot2(T2, frame='2', color='red',block=False);"
   ]
  },
  {
   "cell_type": "markdown",
   "metadata": {},
   "source": [
    "How would a compound transformation T1 followed by T2 look like"
   ]
  },
  {
   "cell_type": "code",
   "execution_count": null,
   "metadata": {},
   "outputs": [],
   "source": [
    "T3 = T1@T2\n",
    "trplot2(T3, frame='3', color='green', block=False);"
   ]
  },
  {
   "cell_type": "code",
   "execution_count": null,
   "metadata": {},
   "outputs": [],
   "source": [
    "# Create a point W_P wrt to the world\n",
    "P = np.array([[3],[2]])"
   ]
  },
  {
   "cell_type": "markdown",
   "metadata": {},
   "source": [
    "Points can be represented via the 'scatter' plot in matplotlib. We can assign the color of the point via option 'c' as well as the type of marker via option 'marker'."
   ]
  },
  {
   "cell_type": "code",
   "execution_count": null,
   "metadata": {},
   "outputs": [],
   "source": [
    "plt.scatter(P[0].item(),P[1].item(), c='black',marker='^' );"
   ]
  },
  {
   "cell_type": "markdown",
   "metadata": {},
   "source": [
    "What if we wish to know the coordinates of the point wrt to coordinate frame 1 and not the world origin?"
   ]
  },
  {
   "cell_type": "code",
   "execution_count": null,
   "metadata": {},
   "outputs": [],
   "source": [
    "# Where, 1_T_W = inv(W_T_1)\n",
    "# 1_P = 1_T_W * W_P\n",
    "P1 = np.matmul(np.linalg.inv(T1),e2h(P))\n",
    "print(P1)"
   ]
  },
  {
   "cell_type": "code",
   "execution_count": null,
   "metadata": {},
   "outputs": [],
   "source": [
    "# Plot the point\n",
    "plt.scatter( h2e(P1)[0],h2e(P1)[1],c='red');\n",
    "print(h2e(P1))"
   ]
  },
  {
   "cell_type": "code",
   "execution_count": null,
   "metadata": {},
   "outputs": [],
   "source": [
    "# 2_P = 2_T_W * W_P\n",
    "P2 = np.matmul(np.linalg.inv(T2),e2h(P))\n",
    "print(P2)"
   ]
  }
 ],
 "metadata": {
  "kernelspec": {
   "display_name": "Python 3",
   "language": "python",
   "name": "python3"
  },
  "language_info": {
   "codemirror_mode": {
    "name": "ipython",
    "version": 3
   },
   "file_extension": ".py",
   "mimetype": "text/x-python",
   "name": "python",
   "nbconvert_exporter": "python",
   "pygments_lexer": "ipython3",
   "version": "3.8.5"
  }
 },
 "nbformat": 4,
 "nbformat_minor": 4
}
