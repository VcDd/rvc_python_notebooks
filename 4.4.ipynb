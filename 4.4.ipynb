{
 "cells": [
  {
   "cell_type": "code",
   "execution_count": null,
   "metadata": {},
   "outputs": [],
   "source": [
    "# Works best with jupyter-notebook"
   ]
  },
  {
   "cell_type": "code",
   "execution_count": null,
   "metadata": {},
   "outputs": [],
   "source": [
    "%matplotlib notebook \n",
    "#%matplotlib widget \n",
    "# https://ipython.readthedocs.io/en/stable/interactive/magics.html\n",
    "import numpy as np\n",
    "import math\n",
    "from collections import namedtuple\n",
    "\n",
    "from spatialmath import *\n",
    "from spatialmath.base import *\n",
    "\n",
    "from roboticstoolbox import *\n",
    "import roboticstoolbox.tools.trajectory as tr\n",
    "\n",
    "import matplotlib.pyplot as plt\n",
    "\n",
    "np.set_printoptions(linewidth=100, formatter={'float': lambda x: f\"{x:8.4g}\" if abs(x) > 1e-10 else f\"{0:8.4g}\"})"
   ]
  },
  {
   "cell_type": "markdown",
   "metadata": {},
   "source": [
    "# Lecture 4.4"
   ]
  },
  {
   "cell_type": "markdown",
   "metadata": {},
   "source": [
    "Let us first look at how to create a 1D trajectory with multiple via points"
   ]
  },
  {
   "cell_type": "code",
   "execution_count": null,
   "metadata": {
    "scrolled": true
   },
   "outputs": [],
   "source": [
    "#Set a first point of 10, a last point of 30 and via points of 40, 10 and the last point\n",
    "first = np.array(10)\n",
    "last  = np.array(10)\n",
    "\n",
    "via = np.array([\n",
    "    [10],\n",
    "    [20],\n",
    "    [10]\n",
    "    ])\n",
    "\n",
    "print(\"First: \", first, \"\\nLast: \", last, \"\\nVia Points: \\n\", via.squeeze())\n"
   ]
  },
  {
   "cell_type": "markdown",
   "metadata": {},
   "source": [
    "Compute a trajectory with via points using the toolbox function **mstraj()**.\n",
    "\n",
    "Params: \n",
    " - via points (one per row)\n",
    " - time step <secs> (dt)\n",
    " - acceleration time <secs> (tacc)\n",
    " - max speed, defaults to none <units/sec> (qd)\n",
    " - max time of each motion segment <secs> (tseg)\n",
    " - initial via point position\n",
    " - initial via point velocity\n",
    " - returns trajectory plus extra info <tuple> as a named tuple\n",
    "    \n",
    "The return value is a namedtuple (named ``mstraj``) with elements:\n",
    "    \n",
    "        - ``t``  the time coordinate as a numpy ndarray, shape=(K,)\n",
    "        - ``q``  the axis values as a numpy ndarray, shape=(K,N)\n",
    "        - ``arrive`` a list of arrival times for each segment\n",
    "        - ``info`` a list of named tuples, one per segment that describe the\n",
    "          slowest axis, segment time,  and time stamp\n",
    "        - ``via`` the passed set of via points\n",
    "    \n",
    "    The  trajectory proper is (``traj.t``, ``traj.q``).  The trajectory is a matrix has one row per time step, and one column per axis.\n"
   ]
  },
  {
   "cell_type": "code",
   "execution_count": null,
   "metadata": {},
   "outputs": [],
   "source": [
    "speed = 1   # velocity is 1 unit/second\n",
    "dt    = 1 # time interval 0.1 seconds\n",
    "tacc  = 0   # acceleration time 2 seconds\n",
    "\n",
    "out = tr.mstraj(via, dt, tacc, qdmax=speed, q0=first)"
   ]
  },
  {
   "cell_type": "code",
   "execution_count": null,
   "metadata": {},
   "outputs": [],
   "source": [
    "print(type(out.t))\n",
    "\n",
    "print(type(out.arrive))\n",
    "\n",
    "print(type(out.via))\n"
   ]
  },
  {
   "cell_type": "code",
   "execution_count": null,
   "metadata": {},
   "outputs": [],
   "source": [
    "print(\"The trajectory lasts a total of \", out.t[-1], \" secs.\")\n",
    "\n",
    "print(\"The segments times are as follows \\n\", out.arrive)\n",
    " \n",
    "print(\"My via points are: \\n\", out.via.squeeze())\n",
    "\n",
    "#print(\"Print out every nth point of the trajectory \\n\", out.q[0::10])\n",
    "#out.info # Useful with more axis"
   ]
  },
  {
   "cell_type": "markdown",
   "metadata": {},
   "source": [
    "Plot the trajectory"
   ]
  },
  {
   "cell_type": "code",
   "execution_count": null,
   "metadata": {},
   "outputs": [],
   "source": [
    "fig1=plt.figure(1);\n",
    "plt.plot(out.t, out.q);\n",
    "plt.xlabel('time');\n",
    "plt.ylabel('unit');"
   ]
  },
  {
   "cell_type": "markdown",
   "metadata": {},
   "source": [
    "Increasing the acceleration time from 0 to 2 seconds, increases the duration of our acceleration (slows down the trajectory).\n",
    "\n",
    "So, to achieve starting/final via points smoothly, the trajectory moves away from the via points."
   ]
  },
  {
   "cell_type": "code",
   "execution_count": null,
   "metadata": {},
   "outputs": [],
   "source": [
    "# control precision\n",
    "np.set_printoptions(precision=2)\n",
    "\n",
    "speed = 1   \n",
    "dt    = 1 \n",
    "tacc  = 2 \n",
    "\n",
    "out = tr.mstraj(via, dt, tacc, qdmax=speed, q0=first)\n",
    "plt.plot(out.t, out.q)\n",
    "plt.xlabel('time')\n",
    "plt.ylabel('unit')"
   ]
  },
  {
   "cell_type": "code",
   "execution_count": null,
   "metadata": {},
   "outputs": [],
   "source": [
    "print(\"The trajectory lasts a total of \", out.t[-1], \" secs.\")\n",
    "\n",
    "print(\"The four segments arrive at the following times: \\n\", out.arrive)\n",
    " \n",
    "print(\"My via points are: \\n\", out.via.squeeze())\n",
    "\n",
    "print(\"Printint out every 20th point of the trajectory \\n\", out.q[0::20])\n",
    "# out.info # Useful with more axis"
   ]
  },
  {
   "cell_type": "code",
   "execution_count": null,
   "metadata": {},
   "outputs": [],
   "source": [
    "#Increasing acceleration time from 2 to 8 seconds\n",
    "speed = 1   \n",
    "dt    = 1 \n",
    "tacc  = 8 \n",
    "\n",
    "out=tr.mstraj(via, dt, tacc, qdmax=speed, q0=first)"
   ]
  },
  {
   "cell_type": "code",
   "execution_count": null,
   "metadata": {},
   "outputs": [],
   "source": [
    "#plot\n",
    "#fig3=plt.figure(3)\n",
    "plt.plot(out.t, out.q)\n",
    "plt.xlabel('time')\n",
    "plt.ylabel('unit')"
   ]
  },
  {
   "cell_type": "markdown",
   "metadata": {},
   "source": [
    "If we increase the velocity, the amount of time taken to execute the trajectory is reduced."
   ]
  },
  {
   "cell_type": "code",
   "execution_count": null,
   "metadata": {},
   "outputs": [],
   "source": [
    "speed = 4   \n",
    "dt    = 1 \n",
    "tacc  = 8 \n",
    "\n",
    "out=tr.mstraj(via, dt, tacc, qdmax=speed, q0=first)\n",
    "\n",
    "#plot\n",
    "#fig5=plt.figure(5)\n",
    "plt.plot(out.t, out.q)\n",
    "plt.xlabel('time')\n",
    "plt.ylabel('unit')"
   ]
  },
  {
   "cell_type": "markdown",
   "metadata": {},
   "source": [
    "We can set the duration of each segment instead of the velocity. \n",
    "\n",
    "The time duration of each segment is passed via a vector to the function. \n",
    "\n",
    "Segment 1: 10 secs\n",
    "\n",
    "Segment 2: 20 secs"
   ]
  },
  {
   "cell_type": "code",
   "execution_count": null,
   "metadata": {},
   "outputs": [],
   "source": [
    "dt   = 0.1 # time interval 0.1 seconds\n",
    "tacc = 2 # acceleration time 4 seconds\n",
    "print(via)\n",
    "out=tr.mstraj(via, dt, tacc, tsegment=[0, 10, 20], q0=first)"
   ]
  },
  {
   "cell_type": "code",
   "execution_count": null,
   "metadata": {},
   "outputs": [],
   "source": [
    "#plot\n",
    "fig6=plt.figure(6)\n",
    "plt.plot(out.t, out.q)\n",
    "plt.xlabel('time')\n",
    "plt.ylabel('unit')"
   ]
  }
 ],
 "metadata": {
  "kernelspec": {
   "display_name": "Python 3",
   "language": "python",
   "name": "python3"
  },
  "language_info": {
   "codemirror_mode": {
    "name": "ipython",
    "version": 3
   },
   "file_extension": ".py",
   "mimetype": "text/x-python",
   "name": "python",
   "nbconvert_exporter": "python",
   "pygments_lexer": "ipython3",
   "version": "3.8.5"
  }
 },
 "nbformat": 4,
 "nbformat_minor": 4
}
