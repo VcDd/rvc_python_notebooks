{
 "cells": [
  {
   "cell_type": "code",
   "execution_count": 1,
   "metadata": {},
   "outputs": [],
   "source": [
    "# Works best with jupyter-notebook"
   ]
  },
  {
   "cell_type": "code",
   "execution_count": 1,
   "metadata": {},
   "outputs": [],
   "source": [
    "%matplotlib notebook \n",
    "#%matplotlib widget \n",
    "# https://ipython.readthedocs.io/en/stable/interactive/magics.html\n",
    "import numpy as np\n",
    "import roboticstoolbox as rtb\n",
    "import spatialmath.base.symbolic as sym\n",
    "import matplotlib.pyplot as plt\n",
    "import math\n",
    "from spatialmath import *\n",
    "from spatialmath.base import *\n",
    "from collections import namedtuple\n",
    "from roboticstoolbox import ETS as E\n",
    "np.set_printoptions(linewidth=100, formatter={'float': lambda x: f\"{x:8.4g}\" if abs(x) > 1e-10 else f\"{0:8.4g}\"})"
   ]
  },
  {
   "cell_type": "markdown",
   "metadata": {},
   "source": [
    "##### Lecture 6.5"
   ]
  },
  {
   "cell_type": "markdown",
   "metadata": {},
   "source": [
    "A 3-D planar robot\n",
    "(ETS in 3D)"
   ]
  },
  {
   "cell_type": "code",
   "execution_count": 11,
   "metadata": {},
   "outputs": [
    {
     "name": "stdout",
     "output_type": "stream",
     "text": [
      "Rz(q1) * tz(a1) * Ry(q2) * tz(a2) * Ry(q3) * tz(a3) * Ry(q4) * tz(a4)\n",
      "  \u001b[38;5;1m(-sin(q2)*sin(q3)*cos(q1) + cos(q1)*cos(q2)*cos(q3))*cos(q4) - (sin(q2)*cos(q1)*cos(q3) + sin(q3)*cos(q1)*cos(q2))*sin(q4)\u001b[0m\u001b[38;5;1m-sin(q1)    \u001b[0m\u001b[38;5;1m(-sin(q2)*sin(q3)*cos(q1) + cos(q1)*cos(q2)*cos(q3))*sin(q4) + (sin(q2)*cos(q1)*cos(q3) + sin(q3)*cos(q1)*cos(q2))*cos(q4)\u001b[0m\u001b[38;5;4ma2*sin(q2)*cos(q1) + a3*(sin(q2)*cos(q1)*cos(q3) + sin(q3)*cos(q1)*cos(q2)) + a4*((-sin(q2)*sin(q3)*cos(q1) + cos(q1)*cos(q2)*cos(q3))*sin(q4) + (sin(q2)*cos(q1)*cos(q3) + sin(q3)*cos(q1)*cos(q2))*cos(q4))\u001b[0m  \u001b[0m\n",
      "  \u001b[38;5;1m(-sin(q1)*sin(q2)*sin(q3) + sin(q1)*cos(q2)*cos(q3))*cos(q4) - (sin(q1)*sin(q2)*cos(q3) + sin(q1)*sin(q3)*cos(q2))*sin(q4)\u001b[0m\u001b[38;5;1mcos(q1)     \u001b[0m\u001b[38;5;1m(-sin(q1)*sin(q2)*sin(q3) + sin(q1)*cos(q2)*cos(q3))*sin(q4) + (sin(q1)*sin(q2)*cos(q3) + sin(q1)*sin(q3)*cos(q2))*cos(q4)\u001b[0m\u001b[38;5;4ma2*sin(q1)*sin(q2) + a3*(sin(q1)*sin(q2)*cos(q3) + sin(q1)*sin(q3)*cos(q2)) + a4*((-sin(q1)*sin(q2)*sin(q3) + sin(q1)*cos(q2)*cos(q3))*sin(q4) + (sin(q1)*sin(q2)*cos(q3) + sin(q1)*sin(q3)*cos(q2))*cos(q4))\u001b[0m  \u001b[0m\n",
      "  \u001b[38;5;1m-(-sin(q2)*sin(q3) + cos(q2)*cos(q3))*sin(q4) + (-sin(q2)*cos(q3) - sin(q3)*cos(q2))*cos(q4)\u001b[0m\u001b[38;5;1m0           \u001b[0m\u001b[38;5;1m(-sin(q2)*sin(q3) + cos(q2)*cos(q3))*cos(q4) + (-sin(q2)*cos(q3) - sin(q3)*cos(q2))*sin(q4)\u001b[0m\u001b[38;5;4ma1 + a2*cos(q2) + a3*(-sin(q2)*sin(q3) + cos(q2)*cos(q3)) + a4*((-sin(q2)*sin(q3) + cos(q2)*cos(q3))*cos(q4) + (-sin(q2)*cos(q3) - sin(q3)*cos(q2))*sin(q4))\u001b[0m  \u001b[0m\n",
      "  \u001b[38;5;244m0           \u001b[0m\u001b[38;5;244m0           \u001b[0m\u001b[38;5;244m0           \u001b[0m\u001b[38;5;244m1           \u001b[0m  \u001b[0m\n",
      "\n"
     ]
    }
   ],
   "source": [
    "#Create symbolic variables a1, a2, a3, a4 , q1, q2, q3 and q4 to represent the link lengths and the joint angles\n",
    "a1 = sym.symbol('a1')\n",
    "q1 = sym.symbol('q1')\n",
    "a2 = sym.symbol('a2')\n",
    "q2 = sym.symbol('q2')\n",
    "a3 = sym.symbol('a3')\n",
    "q3 = sym.symbol('q3')\n",
    "a4 = sym.symbol('a4')\n",
    "q4 = sym.symbol('q4')\n",
    "e=E.rz(q1)*E.tz(a1)*E.ry(q2)*E.tz(a2)*E.ry(q3)*E.tz(a3)*E.ry(q4)*E.tz(a4)\n",
    "print(e)\n",
    "htm=e.eval()\n",
    "print(htm)"
   ]
  },
  {
   "cell_type": "code",
   "execution_count": null,
   "metadata": {},
   "outputs": [],
   "source": []
  }
 ],
 "metadata": {
  "kernelspec": {
   "display_name": "Python 3",
   "language": "python",
   "name": "python3"
  },
  "language_info": {
   "codemirror_mode": {
    "name": "ipython",
    "version": 3
   },
   "file_extension": ".py",
   "mimetype": "text/x-python",
   "name": "python",
   "nbconvert_exporter": "python",
   "pygments_lexer": "ipython3",
   "version": "3.8.5"
  }
 },
 "nbformat": 4,
 "nbformat_minor": 4
}
