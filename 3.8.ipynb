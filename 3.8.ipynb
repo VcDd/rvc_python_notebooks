{
 "cells": [
  {
   "cell_type": "markdown",
   "metadata": {},
   "source": [
    "# RVC 1, Ch2.2\n",
    "https://petercorke.github.io/spatialmath-python/func_3d.html"
   ]
  },
  {
   "cell_type": "code",
   "execution_count": null,
   "metadata": {},
   "outputs": [],
   "source": [
    "# Works best with jupyter-notebook"
   ]
  },
  {
   "cell_type": "code",
   "execution_count": null,
   "metadata": {},
   "outputs": [],
   "source": [
    "%matplotlib notebook \n",
    "#%matplotlib widget \n",
    "# https://ipython.readthedocs.io/en/stable/interactive/magics.html\n",
    "import numpy as np\n",
    "\n",
    "from spatialmath import *\n",
    "from spatialmath.base import *\n",
    "from roboticstoolbox import *\n",
    "import matplotlib.pyplot as plt\n",
    "\n",
    "np.set_printoptions(linewidth=100, formatter={'float': lambda x: f\"{x:8.4g}\" if abs(x) > 1e-10 else f\"{0:8.4g}\"})"
   ]
  },
  {
   "cell_type": "markdown",
   "metadata": {},
   "source": [
    "## Lec 3.8 Angle Sequences"
   ]
  },
  {
   "cell_type": "markdown",
   "metadata": {},
   "source": [
    "### Euler Angles\n",
    "The toolbox function eul2r() accepts the 3 Euler angles (using the ZYZ sequence) and returns the\n",
    "corresponding rotation matrix. In this case we will pass the Euler angles of 0.1, 0.2 and 0.3 radians:"
   ]
  },
  {
   "cell_type": "code",
   "execution_count": null,
   "metadata": {},
   "outputs": [],
   "source": [
    "R=eul2r(0.1,0.2,0.3)\n",
    "print(R)\n",
    "# R=eul2tr(0.1,0.2,0.3) # or a homogeneous transform"
   ]
  },
  {
   "cell_type": "markdown",
   "metadata": {},
   "source": [
    "We can perform the inverse by using the toolbox function tr2eul(), converting the resulting rotation matrix to Euler angles. Works on SO3 or SE3 objects."
   ]
  },
  {
   "cell_type": "code",
   "execution_count": null,
   "metadata": {},
   "outputs": [],
   "source": [
    "tr2eul(R)"
   ]
  },
  {
   "cell_type": "markdown",
   "metadata": {},
   "source": [
    "Let's try a different set of angles. \n",
    "\n",
    "Let the second angle be negative gives:"
   ]
  },
  {
   "cell_type": "code",
   "execution_count": null,
   "metadata": {},
   "outputs": [],
   "source": [
    "R1=(0.1,-0.2,0.3)\n",
    "R2=eul2r(R1)\n",
    "print(R2)"
   ]
  },
  {
   "cell_type": "markdown",
   "metadata": {},
   "source": [
    "Returning the resulting rotation matrix back to Euler angles gives:"
   ]
  },
  {
   "cell_type": "code",
   "execution_count": null,
   "metadata": {},
   "outputs": [],
   "source": [
    "R3=tr2eul(R2)\n",
    "print(R3)"
   ]
  },
  {
   "cell_type": "markdown",
   "metadata": {},
   "source": [
    "What do you notice? Do we get the same angles back?"
   ]
  },
  {
   "cell_type": "code",
   "execution_count": null,
   "metadata": {},
   "outputs": [],
   "source": [
    "print('\\nIs R1 equal to R3? ', R1 is R3)"
   ]
  },
  {
   "cell_type": "markdown",
   "metadata": {},
   "source": [
    "There are **two sets** of Euler\n",
    "angles which can represent the **same rotation matrix**. "
   ]
  },
  {
   "cell_type": "markdown",
   "metadata": {},
   "source": [
    "Converting these Euler angles back to the rotation\n",
    "matrix again, shows this to be the case."
   ]
  },
  {
   "cell_type": "code",
   "execution_count": null,
   "metadata": {},
   "outputs": [],
   "source": [
    "R4=eul2r(R3)\n",
    "print(R4)"
   ]
  },
  {
   "cell_type": "code",
   "execution_count": null,
   "metadata": {},
   "outputs": [],
   "source": [
    "print('The two sets of Angles do return the same rotation matrix representation: \\n', R4-R2)"
   ]
  },
  {
   "cell_type": "markdown",
   "metadata": {},
   "source": [
    "---"
   ]
  },
  {
   "cell_type": "markdown",
   "metadata": {},
   "source": [
    "## Roll-Pitch-Yaw Angles"
   ]
  },
  {
   "cell_type": "markdown",
   "metadata": {},
   "source": [
    "The toolbox function rpy2r() accepts the 3 roll-pitch-yaw angles and returns the corresponding\n",
    "rotation matrix. In this case we will pass the roll-pitch-yaw angles of 0.1, 0.2 and 0.3 radians:"
   ]
  },
  {
   "cell_type": "code",
   "execution_count": null,
   "metadata": {},
   "outputs": [],
   "source": [
    "R1=rpy2r(0.1,0.2,0.3)\n",
    "print(R1)\n",
    "type(R1)"
   ]
  },
  {
   "cell_type": "markdown",
   "metadata": {},
   "source": [
    "We can perform the inverse by using the toolbox function tr2rpy(), converting the resulting\n",
    "rotation matrix to roll-pitch-yaw angles:"
   ]
  },
  {
   "cell_type": "code",
   "execution_count": null,
   "metadata": {},
   "outputs": [],
   "source": [
    "R2=tr2rpy(R1)\n",
    "print(R2)\n",
    "type(R2)"
   ]
  },
  {
   "cell_type": "markdown",
   "metadata": {},
   "source": [
    "A more useful way to do these angle manipulations, is via the S03 or SE3 classes. In this way, you can call methods on the object itself. Let's explore.\n",
    "\n",
    "\n",
    "A number of other constructors provide convenient ways to describe a rotation\n",
    "\n",
    "| Constructor   |  rotation |\n",
    "|---------------|-----------|\n",
    "| SO3.Rx(theta)  |  about X-axis |\n",
    "| SO3.Ry(theta)  |  about Y-axis|\n",
    "| SO3.Rz(theta)  |  about Z-axis|\n",
    "| SO3.RPY(rpy)  |  from roll-pitch-yaw angle vector|\n",
    "| SO3.Eul(euler)  | from Euler angle vector |\n",
    "| SO3.AngVec(theta, v)  | from rotation and axis |\n",
    "| SO3.Exp(v)  | from a twist vector |\n",
    "| SO3.OA  | from orientation and approach vectors |"
   ]
  },
  {
   "cell_type": "code",
   "execution_count": null,
   "metadata": {},
   "outputs": [],
   "source": [
    "R1 = SO3.Rx(45, 'deg')\n",
    "print(R1)\n",
    "type(R1)"
   ]
  },
  {
   "cell_type": "markdown",
   "metadata": {},
   "source": [
    "And turn back:"
   ]
  },
  {
   "cell_type": "code",
   "execution_count": null,
   "metadata": {},
   "outputs": [],
   "source": [
    "R2=R1.rpy(unit='deg')\n",
    "print(R2)\n",
    "type(R2)"
   ]
  },
  {
   "cell_type": "markdown",
   "metadata": {},
   "source": [
    "The matrices that represent rotations have a very particular structure but it is perhaps not immediately obvious.  Each column (and row) is a unit vector, and each column (and row) is orthogonal  to all the others – that is the inner product is zero.\n",
    "\n",
    "A mathematician would say the matrices are a subset of all possible 3x3 matrices which belong to the Special Orthogonal _group_ in 3 dimensions which is generally shortened to $\\mbox{SO}(3)$ – hence the name of our Python class.  These matrices represent rotations in 3D space.  These matrices are also known as _rotation_ matrices.\n",
    "\n",
    "A very useful property of matrices in $\\mbox{SO}(N)$ is that the inverse is equal to its transpose, and its determinant is always +1."
   ]
  },
  {
   "cell_type": "code",
   "execution_count": null,
   "metadata": {},
   "outputs": [],
   "source": [
    "from math import pi\n",
    "SO3.Rz(pi/4) * SO3.Rz(pi/4).inv()\n"
   ]
  }
 ],
 "metadata": {
  "kernelspec": {
   "display_name": "Python 3",
   "language": "python",
   "name": "python3"
  },
  "language_info": {
   "codemirror_mode": {
    "name": "ipython",
    "version": 3
   },
   "file_extension": ".py",
   "mimetype": "text/x-python",
   "name": "python",
   "nbconvert_exporter": "python",
   "pygments_lexer": "ipython3",
   "version": "3.8.5"
  }
 },
 "nbformat": 4,
 "nbformat_minor": 2
}
